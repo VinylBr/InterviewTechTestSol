{
 "cells": [
  {
   "cell_type": "markdown",
   "metadata": {},
   "source": [
    "**Author**: Vinay Barnabas"
   ]
  },
  {
   "cell_type": "code",
   "execution_count": 119,
   "metadata": {},
   "outputs": [],
   "source": [
    "import sqlite3\n",
    "import pandas as pd\n",
    "import numpy as np\n",
    "import seaborn as sns\n",
    "import matplotlib.pyplot as plt\n",
    "from lifelines import KaplanMeierFitter\n",
    "from lifelines.statistics import logrank_test\n",
    "import warnings\n",
    "\n",
    "warnings.simplefilter(action = \"ignore\", category = FutureWarning)"
   ]
  },
  {
   "cell_type": "markdown",
   "metadata": {},
   "source": [
    "**Is the Date birth same for multiple entries of patients?**"
   ]
  },
  {
   "cell_type": "code",
   "execution_count": 2,
   "metadata": {},
   "outputs": [],
   "source": [
    "con = sqlite3.connect(\"techTest.db\")\n",
    "cur = con.cursor()\n"
   ]
  },
  {
   "cell_type": "code",
   "execution_count": 118,
   "metadata": {},
   "outputs": [
    {
     "name": "stdout",
     "output_type": "stream",
     "text": [
      "Column Name: patient\n",
      "--------------------------------------------------\n",
      "with columns\n",
      "(0, 'patient_id', 'TEXT', 0, None, 0)\n",
      "(1, 'dob', 'TIMESTAMP', 0, None, 0)\n",
      "(2, 'dod', 'TIMESTAMP', 0, None, 0)\n",
      "(3, 'gender', 'TEXT', 0, None, 0)\n",
      "\n",
      "\n",
      "Column Name: diagnosis\n",
      "--------------------------------------------------\n",
      "with columns\n",
      "(0, 'patient_id', 'TEXT', 0, None, 0)\n",
      "(1, 'diagnosis_date', 'TIMESTAMP', 0, None, 0)\n",
      "(2, 'diagnosis_code', 'TEXT', 0, None, 0)\n",
      "(3, 'diagnosis_code_type', 'TEXT', 0, None, 0)\n",
      "\n",
      "\n",
      "Column Name: biomarker\n",
      "--------------------------------------------------\n",
      "with columns\n",
      "(0, 'patient_id', 'TEXT', 0, None, 0)\n",
      "(1, 'test_date', 'TIMESTAMP', 0, None, 0)\n",
      "(2, 'biomarker_name', 'TEXT', 0, None, 0)\n",
      "(3, 'biomarker_test_type', 'TEXT', 0, None, 0)\n",
      "(4, 'test_result', 'TEXT', 0, None, 0)\n",
      "\n",
      "\n"
     ]
    }
   ],
   "source": [
    "cur.execute('''\n",
    "                SELECT name\n",
    "                FROM sqlite_master\n",
    "                WHERE type = \"table\";\n",
    "            ''')\n",
    "\n",
    "for item in cur.fetchall():\n",
    "    print(f\"Column Name: {item[0]}\")\n",
    "    print(50*\"-\")\n",
    "    print(\"with columns\")\n",
    "    cur.execute(f\"PRAGMA table_info({item[0]})\")\n",
    "    column_info = cur.fetchall()\n",
    "    for col in column_info:\n",
    "        print(col)\n",
    "    print(\"\\n\")    "
   ]
  },
  {
   "cell_type": "markdown",
   "metadata": {},
   "source": [
    "### Data Exploration and Cleaning"
   ]
  },
  {
   "cell_type": "code",
   "execution_count": 119,
   "metadata": {},
   "outputs": [],
   "source": [
    "cur.execute('''\n",
    "            SELECT p.patient_id,\n",
    "            CASE\n",
    "            WHEN MIN(p.dob) = MAX(p.dob) THEN 1\n",
    "            ELSE 0\n",
    "            END Is_dob_same\n",
    "\n",
    "            FROM Patient as p\n",
    "            GROUP BY p.patient_id\n",
    "  \n",
    "            \n",
    "            ''')\n",
    "count_is_same = 0\n",
    "count_rows = 0\n",
    "for item in cur.fetchall():\n",
    "    count_rows+=1\n",
    "    count_is_same+=item[1]\n",
    "\n",
    "assert count_rows == count_is_same, \"A patient has multiple dobs\"\n"
   ]
  },
  {
   "cell_type": "markdown",
   "metadata": {},
   "source": [
    "*Is DOB > DOD?*"
   ]
  },
  {
   "cell_type": "code",
   "execution_count": 120,
   "metadata": {},
   "outputs": [],
   "source": [
    "cur.execute('''\n",
    "            SELECT COUNT(*)\n",
    "            FROM Patient\n",
    "            WHERE dob > dod\n",
    "            ''')\n",
    "count_is_same = 0\n",
    "count_rows = 0\n",
    "assert cur.fetchall()[0][0] == 0, \"Date of Birth is later than Date of death\""
   ]
  },
  {
   "cell_type": "markdown",
   "metadata": {},
   "source": [
    "*Are DOD > TODAY?*"
   ]
  },
  {
   "cell_type": "code",
   "execution_count": 157,
   "metadata": {},
   "outputs": [
    {
     "name": "stdout",
     "output_type": "stream",
     "text": [
      "Number of records in Patients table where date of death is greater than current date: 174\n"
     ]
    }
   ],
   "source": [
    "cur.execute('''\n",
    "                SELECT COUNT(*)\n",
    "                FROM patient\n",
    "                WHERE STRFTIME(\"%Y\",dod) > STRFTIME(\"%Y\",\"now\");\n",
    "             \n",
    "            ''')\n",
    "\n",
    "num_dodbiggernow = cur.fetchone()[0]\n",
    "print(f\"Number of records in Patients table where date of death is greater than current date: {num_dodbiggernow}\")"
   ]
  },
  {
   "cell_type": "markdown",
   "metadata": {},
   "source": [
    "*Is DOD earlier than earliest date of diagnosis?*"
   ]
  },
  {
   "cell_type": "markdown",
   "metadata": {},
   "source": [
    "**OBSERVATION**: <br>\n",
    "- There are multiple instances of patients. Hence multiples dates of diagnosis\n",
    "- Date of births are the same for the grouped patients ids"
   ]
  },
  {
   "cell_type": "code",
   "execution_count": 221,
   "metadata": {},
   "outputs": [
    {
     "name": "stdout",
     "output_type": "stream",
     "text": [
      "Number of records with DOD < Date of first diagnosis: 154\n"
     ]
    }
   ],
   "source": [
    "#p.patient_id, STRFTIME(\"%Y\",p.dod), STRFTIME(\"%Y\", MIN(d.diagnosis_date)), STRFTIME(\"%Y\", p.dod) - STRFTIME(\"%Y\", MIN(d.diagnosis_date))\n",
    "        \n",
    "#MIN(d.diagnosis_date)) - STRFTIME(\"%Y\",p.dob) as age_at_diagnosis\n",
    "cur.execute('''\n",
    "            SELECT p.patient_id, p.dod, MIN(d.diagnosis_date)\n",
    "            FROM Patient as p LEFT JOIN Diagnosis as d ON p.patient_id = d.patient_id \n",
    "            GROUP BY p.patient_id\n",
    "            HAVING (d.diagnosis_code LIKE \"C50%\") AND p.dod < MIN(d.diagnosis_date)---  \n",
    "            ''')\n",
    "count_is_same = 0\n",
    "query_records = cur.fetchall()\n",
    "print(f\"Number of records with DOD < Date of first diagnosis: {len(query_records)}\")\n",
    "con.commit()\n",
    "con.close()"
   ]
  },
  {
   "cell_type": "markdown",
   "metadata": {},
   "source": [
    "*How long did each patient live?*"
   ]
  },
  {
   "cell_type": "code",
   "execution_count": 21,
   "metadata": {},
   "outputs": [
    {
     "data": {
      "image/png": "[encoded data removed]",
      "text/plain": [
       "<Figure size 640x480 with 1 Axes>"
      ]
     },
     "metadata": {},
     "output_type": "display_data"
    }
   ],
   "source": [
    "query_age = '''\n",
    "                SELECT STRFTIME(\"%Y\",dod) - STRFTIME(\"%Y\",dob) as age\n",
    "                FROM patient\n",
    "                '''\n",
    "df_age = pd.read_sql_query(query_age, con)\n",
    "df_age.boxplot()\n",
    "plt.ylabel(\"Years\")\n",
    "plt.show()"
   ]
  },
  {
   "cell_type": "markdown",
   "metadata": {},
   "source": [
    "*Is DOD earlier than biomarker test date?*"
   ]
  },
  {
   "cell_type": "code",
   "execution_count": 22,
   "metadata": {},
   "outputs": [
    {
     "data": {
      "text/plain": [
       "[('1966-07-20 00:00:00', '2042-06-15 00:00:00', '2018-03-10 00:00:00'),\n",
       " ('1930-08-24 00:00:00', '1970-06-04 00:00:00', '1987-11-09 00:00:00'),\n",
       " ('1963-04-30 00:00:00', '2036-01-19 00:00:00', '1983-03-01 00:00:00'),\n",
       " ('1963-04-30 00:00:00', '2036-01-19 00:00:00', '1996-12-12 00:00:00'),\n",
       " ('1963-04-30 00:00:00', '2036-01-19 00:00:00', '1999-08-31 00:00:00')]"
      ]
     },
     "execution_count": 22,
     "metadata": {},
     "output_type": "execute_result"
    }
   ],
   "source": [
    "cur.execute('''\n",
    "                SELECT p.dob, p.dod, b.test_date\n",
    "                FROM patient as p LEFT JOIN biomarker as b on p.patient_id = b.patient_id\n",
    "                WHERE p.patient_id IN (\n",
    "                                        SELECT patient_id\n",
    "                                        FROM diagnosis\n",
    "                                        WHERE diagnosis_code LIKE \"C50%\"\n",
    "                                        )\n",
    "\n",
    "            ''')\n",
    "cur.fetchmany(5)"
   ]
  },
  {
   "cell_type": "markdown",
   "metadata": {},
   "source": [
    "### Data maturity \n",
    "    - Calculate the summary statistics and plot the distribution of follow up time for BC patients.\n",
    "    - Calculate the summary statistics and plot the distribution of age at initial diagnosis for BC patients"
   ]
  },
  {
   "cell_type": "code",
   "execution_count": 106,
   "metadata": {},
   "outputs": [
    {
     "name": "stdout",
     "output_type": "stream",
     "text": [
      "Size of the table: 795 x 7\n"
     ]
    },
    {
     "data": {
      "text/html": [
       "<div>\n",
       "<style scoped>\n",
       "    .dataframe tbody tr th:only-of-type {\n",
       "        vertical-align: middle;\n",
       "    }\n",
       "\n",
       "    .dataframe tbody tr th {\n",
       "        vertical-align: top;\n",
       "    }\n",
       "\n",
       "    .dataframe thead th {\n",
       "        text-align: right;\n",
       "    }\n",
       "</style>\n",
       "<table border=\"1\" class=\"dataframe\">\n",
       "  <thead>\n",
       "    <tr style=\"text-align: right;\">\n",
       "      <th></th>\n",
       "      <th>patient_id</th>\n",
       "      <th>dod</th>\n",
       "      <th>gender</th>\n",
       "      <th>age_at_diagnosis</th>\n",
       "      <th>first_diagnosis_date</th>\n",
       "      <th>last_diagnosis_date</th>\n",
       "      <th>last_test_date</th>\n",
       "    </tr>\n",
       "  </thead>\n",
       "  <tbody>\n",
       "    <tr>\n",
       "      <th>0</th>\n",
       "      <td>0022fa14-8260-4b11-88cd-3fa066ede851</td>\n",
       "      <td>2008-03-04</td>\n",
       "      <td>male</td>\n",
       "      <td>50</td>\n",
       "      <td>1993-04-07</td>\n",
       "      <td>2019-05-20</td>\n",
       "      <td>2004-12-19</td>\n",
       "    </tr>\n",
       "    <tr>\n",
       "      <th>1</th>\n",
       "      <td>0183e236-7892-4aa9-8b7f-10f12676f1ec</td>\n",
       "      <td>2038-03-11</td>\n",
       "      <td>NULL</td>\n",
       "      <td>21</td>\n",
       "      <td>1986-06-02</td>\n",
       "      <td>2021-10-13</td>\n",
       "      <td>2023-12-29</td>\n",
       "    </tr>\n",
       "    <tr>\n",
       "      <th>2</th>\n",
       "      <td>019d3689-e49a-4f23-8ca1-65379907230b</td>\n",
       "      <td>2042-06-15</td>\n",
       "      <td>female</td>\n",
       "      <td>30</td>\n",
       "      <td>1996-10-05</td>\n",
       "      <td>2020-06-13</td>\n",
       "      <td>2018-03-10</td>\n",
       "    </tr>\n",
       "    <tr>\n",
       "      <th>3</th>\n",
       "      <td>01d468fc-55b8-45e3-8eca-dcb7a6185f28</td>\n",
       "      <td>2007-07-30</td>\n",
       "      <td>NULL</td>\n",
       "      <td>26</td>\n",
       "      <td>1977-01-16</td>\n",
       "      <td>1981-10-28</td>\n",
       "      <td>1995-12-08</td>\n",
       "    </tr>\n",
       "    <tr>\n",
       "      <th>4</th>\n",
       "      <td>022ff2bf-19d7-4c4d-8410-a91773ad24f2</td>\n",
       "      <td>2004-02-09</td>\n",
       "      <td>male</td>\n",
       "      <td>26</td>\n",
       "      <td>1956-06-03</td>\n",
       "      <td>2005-01-07</td>\n",
       "      <td>2021-07-29</td>\n",
       "    </tr>\n",
       "  </tbody>\n",
       "</table>\n",
       "</div>"
      ],
      "text/plain": [
       "                             patient_id         dod  gender  age_at_diagnosis  \\\n",
       "0  0022fa14-8260-4b11-88cd-3fa066ede851  2008-03-04    male                50   \n",
       "1  0183e236-7892-4aa9-8b7f-10f12676f1ec  2038-03-11    NULL                21   \n",
       "2  019d3689-e49a-4f23-8ca1-65379907230b  2042-06-15  female                30   \n",
       "3  01d468fc-55b8-45e3-8eca-dcb7a6185f28  2007-07-30    NULL                26   \n",
       "4  022ff2bf-19d7-4c4d-8410-a91773ad24f2  2004-02-09    male                26   \n",
       "\n",
       "  first_diagnosis_date last_diagnosis_date last_test_date  \n",
       "0           1993-04-07          2019-05-20     2004-12-19  \n",
       "1           1986-06-02          2021-10-13     2023-12-29  \n",
       "2           1996-10-05          2020-06-13     2018-03-10  \n",
       "3           1977-01-16          1981-10-28     1995-12-08  \n",
       "4           1956-06-03          2005-01-07     2021-07-29  "
      ]
     },
     "execution_count": 106,
     "metadata": {},
     "output_type": "execute_result"
    }
   ],
   "source": [
    "query_survival= '''\n",
    "                SELECT p.patient_id, date(p.dod) as dod, p.gender, STRFTIME(\"%Y\", MIN(d.diagnosis_date)) - STRFTIME(\"%Y\",p.dob) as age_at_diagnosis, date(MIN(d.diagnosis_date)) as first_diagnosis_date, date(MAX(d.diagnosis_date)) as last_diagnosis_date, date(MAX(b.test_date)) as last_test_date\n",
    "                FROM patient as p LEFT JOIN diagnosis as d ON p.patient_id = d.patient_id LEFT JOIN biomarker as b ON p.patient_id = b.patient_id\n",
    "                GROUP BY p.patient_id        \n",
    "                HAVING d.diagnosis_code LIKE \"C50%\"\n",
    "                '''\n",
    "\n",
    "df = pd.read_sql_query(query_survival, con)\n",
    "print(f\"Size of the table: {df.shape[0]} x {df.shape[1]}\")\n",
    "df.head()"
   ]
  },
  {
   "cell_type": "code",
   "execution_count": 107,
   "metadata": {},
   "outputs": [
    {
     "data": {
      "text/html": [
       "<div>\n",
       "<style scoped>\n",
       "    .dataframe tbody tr th:only-of-type {\n",
       "        vertical-align: middle;\n",
       "    }\n",
       "\n",
       "    .dataframe tbody tr th {\n",
       "        vertical-align: top;\n",
       "    }\n",
       "\n",
       "    .dataframe thead th {\n",
       "        text-align: right;\n",
       "    }\n",
       "</style>\n",
       "<table border=\"1\" class=\"dataframe\">\n",
       "  <thead>\n",
       "    <tr style=\"text-align: right;\">\n",
       "      <th></th>\n",
       "      <th>patient_id</th>\n",
       "      <th>dod</th>\n",
       "      <th>gender</th>\n",
       "      <th>age_at_diagnosis</th>\n",
       "      <th>first_diagnosis_date</th>\n",
       "      <th>last_diagnosis_date</th>\n",
       "      <th>last_test_date</th>\n",
       "      <th>last_encounter_date</th>\n",
       "    </tr>\n",
       "  </thead>\n",
       "  <tbody>\n",
       "    <tr>\n",
       "      <th>0</th>\n",
       "      <td>0022fa14-8260-4b11-88cd-3fa066ede851</td>\n",
       "      <td>2008-03-04</td>\n",
       "      <td>male</td>\n",
       "      <td>50</td>\n",
       "      <td>1993-04-07</td>\n",
       "      <td>2019-05-20</td>\n",
       "      <td>2004-12-19</td>\n",
       "      <td>2019-05-20</td>\n",
       "    </tr>\n",
       "    <tr>\n",
       "      <th>1</th>\n",
       "      <td>0183e236-7892-4aa9-8b7f-10f12676f1ec</td>\n",
       "      <td>2038-03-11</td>\n",
       "      <td>NULL</td>\n",
       "      <td>21</td>\n",
       "      <td>1986-06-02</td>\n",
       "      <td>2021-10-13</td>\n",
       "      <td>2023-12-29</td>\n",
       "      <td>2023-12-29</td>\n",
       "    </tr>\n",
       "    <tr>\n",
       "      <th>2</th>\n",
       "      <td>019d3689-e49a-4f23-8ca1-65379907230b</td>\n",
       "      <td>2042-06-15</td>\n",
       "      <td>female</td>\n",
       "      <td>30</td>\n",
       "      <td>1996-10-05</td>\n",
       "      <td>2020-06-13</td>\n",
       "      <td>2018-03-10</td>\n",
       "      <td>2020-06-13</td>\n",
       "    </tr>\n",
       "    <tr>\n",
       "      <th>3</th>\n",
       "      <td>01d468fc-55b8-45e3-8eca-dcb7a6185f28</td>\n",
       "      <td>2007-07-30</td>\n",
       "      <td>NULL</td>\n",
       "      <td>26</td>\n",
       "      <td>1977-01-16</td>\n",
       "      <td>1981-10-28</td>\n",
       "      <td>1995-12-08</td>\n",
       "      <td>1995-12-08</td>\n",
       "    </tr>\n",
       "    <tr>\n",
       "      <th>4</th>\n",
       "      <td>022ff2bf-19d7-4c4d-8410-a91773ad24f2</td>\n",
       "      <td>2004-02-09</td>\n",
       "      <td>male</td>\n",
       "      <td>26</td>\n",
       "      <td>1956-06-03</td>\n",
       "      <td>2005-01-07</td>\n",
       "      <td>2021-07-29</td>\n",
       "      <td>2021-07-29</td>\n",
       "    </tr>\n",
       "  </tbody>\n",
       "</table>\n",
       "</div>"
      ],
      "text/plain": [
       "                             patient_id         dod  gender  age_at_diagnosis  \\\n",
       "0  0022fa14-8260-4b11-88cd-3fa066ede851  2008-03-04    male                50   \n",
       "1  0183e236-7892-4aa9-8b7f-10f12676f1ec  2038-03-11    NULL                21   \n",
       "2  019d3689-e49a-4f23-8ca1-65379907230b  2042-06-15  female                30   \n",
       "3  01d468fc-55b8-45e3-8eca-dcb7a6185f28  2007-07-30    NULL                26   \n",
       "4  022ff2bf-19d7-4c4d-8410-a91773ad24f2  2004-02-09    male                26   \n",
       "\n",
       "  first_diagnosis_date last_diagnosis_date last_test_date last_encounter_date  \n",
       "0           1993-04-07          2019-05-20     2004-12-19          2019-05-20  \n",
       "1           1986-06-02          2021-10-13     2023-12-29          2023-12-29  \n",
       "2           1996-10-05          2020-06-13     2018-03-10          2020-06-13  \n",
       "3           1977-01-16          1981-10-28     1995-12-08          1995-12-08  \n",
       "4           1956-06-03          2005-01-07     2021-07-29          2021-07-29  "
      ]
     },
     "execution_count": 107,
     "metadata": {},
     "output_type": "execute_result"
    }
   ],
   "source": [
    "time_format_cols = [\"first_diagnosis_date\", \"last_diagnosis_date\", \"last_test_date\"]\n",
    "for col in time_format_cols:\n",
    "    df[col] = pd.to_datetime(df[col])\n",
    "\n",
    "def cal_last_encounter(row):\n",
    "    if row[\"last_diagnosis_date\"] > row[\"last_test_date\"]:\n",
    "        return row[\"last_diagnosis_date\"]\n",
    "    else:\n",
    "        return row[\"last_test_date\"]\n",
    "\n",
    "\n",
    "df[\"last_encounter_date\"] = df.apply(cal_last_encounter, axis = 1)\n",
    "df.head()"
   ]
  },
  {
   "cell_type": "code",
   "execution_count": 108,
   "metadata": {},
   "outputs": [
    {
     "data": {
      "text/html": [
       "<div>\n",
       "<style scoped>\n",
       "    .dataframe tbody tr th:only-of-type {\n",
       "        vertical-align: middle;\n",
       "    }\n",
       "\n",
       "    .dataframe tbody tr th {\n",
       "        vertical-align: top;\n",
       "    }\n",
       "\n",
       "    .dataframe thead th {\n",
       "        text-align: right;\n",
       "    }\n",
       "</style>\n",
       "<table border=\"1\" class=\"dataframe\">\n",
       "  <thead>\n",
       "    <tr style=\"text-align: right;\">\n",
       "      <th></th>\n",
       "      <th>patient_id</th>\n",
       "      <th>dod</th>\n",
       "      <th>gender</th>\n",
       "      <th>age_at_diagnosis</th>\n",
       "      <th>first_diagnosis_date</th>\n",
       "      <th>last_diagnosis_date</th>\n",
       "      <th>last_test_date</th>\n",
       "      <th>last_encounter_date</th>\n",
       "      <th>follow_up_time</th>\n",
       "      <th>status</th>\n",
       "    </tr>\n",
       "  </thead>\n",
       "  <tbody>\n",
       "    <tr>\n",
       "      <th>0</th>\n",
       "      <td>0022fa14-8260-4b11-88cd-3fa066ede851</td>\n",
       "      <td>2008-03-04</td>\n",
       "      <td>male</td>\n",
       "      <td>50</td>\n",
       "      <td>1993-04-07</td>\n",
       "      <td>2019-05-20</td>\n",
       "      <td>2004-12-19</td>\n",
       "      <td>2019-05-20</td>\n",
       "      <td>26.1</td>\n",
       "      <td>1</td>\n",
       "    </tr>\n",
       "    <tr>\n",
       "      <th>1</th>\n",
       "      <td>0183e236-7892-4aa9-8b7f-10f12676f1ec</td>\n",
       "      <td>2038-03-11</td>\n",
       "      <td>NULL</td>\n",
       "      <td>21</td>\n",
       "      <td>1986-06-02</td>\n",
       "      <td>2021-10-13</td>\n",
       "      <td>2023-12-29</td>\n",
       "      <td>2023-12-29</td>\n",
       "      <td>37.6</td>\n",
       "      <td>0</td>\n",
       "    </tr>\n",
       "    <tr>\n",
       "      <th>2</th>\n",
       "      <td>019d3689-e49a-4f23-8ca1-65379907230b</td>\n",
       "      <td>2042-06-15</td>\n",
       "      <td>female</td>\n",
       "      <td>30</td>\n",
       "      <td>1996-10-05</td>\n",
       "      <td>2020-06-13</td>\n",
       "      <td>2018-03-10</td>\n",
       "      <td>2020-06-13</td>\n",
       "      <td>23.7</td>\n",
       "      <td>0</td>\n",
       "    </tr>\n",
       "    <tr>\n",
       "      <th>3</th>\n",
       "      <td>01d468fc-55b8-45e3-8eca-dcb7a6185f28</td>\n",
       "      <td>2007-07-30</td>\n",
       "      <td>NULL</td>\n",
       "      <td>26</td>\n",
       "      <td>1977-01-16</td>\n",
       "      <td>1981-10-28</td>\n",
       "      <td>1995-12-08</td>\n",
       "      <td>1995-12-08</td>\n",
       "      <td>18.9</td>\n",
       "      <td>0</td>\n",
       "    </tr>\n",
       "    <tr>\n",
       "      <th>4</th>\n",
       "      <td>022ff2bf-19d7-4c4d-8410-a91773ad24f2</td>\n",
       "      <td>2004-02-09</td>\n",
       "      <td>male</td>\n",
       "      <td>26</td>\n",
       "      <td>1956-06-03</td>\n",
       "      <td>2005-01-07</td>\n",
       "      <td>2021-07-29</td>\n",
       "      <td>2021-07-29</td>\n",
       "      <td>65.2</td>\n",
       "      <td>1</td>\n",
       "    </tr>\n",
       "  </tbody>\n",
       "</table>\n",
       "</div>"
      ],
      "text/plain": [
       "                             patient_id         dod  gender  age_at_diagnosis  \\\n",
       "0  0022fa14-8260-4b11-88cd-3fa066ede851  2008-03-04    male                50   \n",
       "1  0183e236-7892-4aa9-8b7f-10f12676f1ec  2038-03-11    NULL                21   \n",
       "2  019d3689-e49a-4f23-8ca1-65379907230b  2042-06-15  female                30   \n",
       "3  01d468fc-55b8-45e3-8eca-dcb7a6185f28  2007-07-30    NULL                26   \n",
       "4  022ff2bf-19d7-4c4d-8410-a91773ad24f2  2004-02-09    male                26   \n",
       "\n",
       "  first_diagnosis_date last_diagnosis_date last_test_date last_encounter_date  \\\n",
       "0           1993-04-07          2019-05-20     2004-12-19          2019-05-20   \n",
       "1           1986-06-02          2021-10-13     2023-12-29          2023-12-29   \n",
       "2           1996-10-05          2020-06-13     2018-03-10          2020-06-13   \n",
       "3           1977-01-16          1981-10-28     1995-12-08          1995-12-08   \n",
       "4           1956-06-03          2005-01-07     2021-07-29          2021-07-29   \n",
       "\n",
       "   follow_up_time  status  \n",
       "0            26.1       1  \n",
       "1            37.6       0  \n",
       "2            23.7       0  \n",
       "3            18.9       0  \n",
       "4            65.2       1  "
      ]
     },
     "execution_count": 108,
     "metadata": {},
     "output_type": "execute_result"
    }
   ],
   "source": [
    "df[\"follow_up_time\"] = ((df[\"last_encounter_date\"] - df[\"first_diagnosis_date\"]).dt.days/365.25).round(1)\n",
    "#patient is event if dod < last_encounter_date while censored if dod > last_encounter_date\n",
    "df[\"status\"] = (df[\"dod\"] < df[\"last_encounter_date\"]).astype(int)\n",
    "df.head()"
   ]
  },
  {
   "cell_type": "code",
   "execution_count": 178,
   "metadata": {},
   "outputs": [
    {
     "name": "stdout",
     "output_type": "stream",
     "text": [
      "Size of the table: 795 x 3\n"
     ]
    },
    {
     "data": {
      "text/html": [
       "<div>\n",
       "<style scoped>\n",
       "    .dataframe tbody tr th:only-of-type {\n",
       "        vertical-align: middle;\n",
       "    }\n",
       "\n",
       "    .dataframe tbody tr th {\n",
       "        vertical-align: top;\n",
       "    }\n",
       "\n",
       "    .dataframe thead th {\n",
       "        text-align: right;\n",
       "    }\n",
       "</style>\n",
       "<table border=\"1\" class=\"dataframe\">\n",
       "  <thead>\n",
       "    <tr style=\"text-align: right;\">\n",
       "      <th></th>\n",
       "      <th>patient_id</th>\n",
       "      <th>follow_up_time</th>\n",
       "      <th>age_at_diagnosis</th>\n",
       "    </tr>\n",
       "  </thead>\n",
       "  <tbody>\n",
       "    <tr>\n",
       "      <th>0</th>\n",
       "      <td>0022fa14-8260-4b11-88cd-3fa066ede851</td>\n",
       "      <td>15</td>\n",
       "      <td>50</td>\n",
       "    </tr>\n",
       "    <tr>\n",
       "      <th>1</th>\n",
       "      <td>0183e236-7892-4aa9-8b7f-10f12676f1ec</td>\n",
       "      <td>52</td>\n",
       "      <td>21</td>\n",
       "    </tr>\n",
       "    <tr>\n",
       "      <th>2</th>\n",
       "      <td>019d3689-e49a-4f23-8ca1-65379907230b</td>\n",
       "      <td>46</td>\n",
       "      <td>30</td>\n",
       "    </tr>\n",
       "    <tr>\n",
       "      <th>3</th>\n",
       "      <td>01d468fc-55b8-45e3-8eca-dcb7a6185f28</td>\n",
       "      <td>30</td>\n",
       "      <td>26</td>\n",
       "    </tr>\n",
       "    <tr>\n",
       "      <th>4</th>\n",
       "      <td>022ff2bf-19d7-4c4d-8410-a91773ad24f2</td>\n",
       "      <td>48</td>\n",
       "      <td>26</td>\n",
       "    </tr>\n",
       "  </tbody>\n",
       "</table>\n",
       "</div>"
      ],
      "text/plain": [
       "                             patient_id  follow_up_time  age_at_diagnosis\n",
       "0  0022fa14-8260-4b11-88cd-3fa066ede851              15                50\n",
       "1  0183e236-7892-4aa9-8b7f-10f12676f1ec              52                21\n",
       "2  019d3689-e49a-4f23-8ca1-65379907230b              46                30\n",
       "3  01d468fc-55b8-45e3-8eca-dcb7a6185f28              30                26\n",
       "4  022ff2bf-19d7-4c4d-8410-a91773ad24f2              48                26"
      ]
     },
     "execution_count": 178,
     "metadata": {},
     "output_type": "execute_result"
    }
   ],
   "source": [
    "\"\"\" query = '''\n",
    "        SELECT p.patient_id, STRFTIME(\"%Y\",p.dod) - STRFTIME(\"%Y\", MIN(d.diagnosis_date)) as follow_up_time, STRFTIME(\"%Y\", MIN(d.diagnosis_date)) - STRFTIME(\"%Y\",p.dob) as age_at_diagnosis\n",
    "        FROM Patient as p LEFT JOIN Diagnosis as d ON p.patient_id = d.patient_id\n",
    "        GROUP BY p.patient_id \n",
    "        HAVING d.diagnosis_code LIKE \"C50%\"\n",
    "        '''\n",
    "\n",
    "df = pd.read_sql_query(query, con)\n",
    "print(f\"Size of the table: {df.shape[0]} x {df.shape[1]}\")\n",
    "df.head() \"\"\""
   ]
  },
  {
   "cell_type": "code",
   "execution_count": 179,
   "metadata": {},
   "outputs": [
    {
     "name": "stdout",
     "output_type": "stream",
     "text": [
      "Size of the table: 639 x 3\n"
     ]
    },
    {
     "data": {
      "text/html": [
       "<div>\n",
       "<style scoped>\n",
       "    .dataframe tbody tr th:only-of-type {\n",
       "        vertical-align: middle;\n",
       "    }\n",
       "\n",
       "    .dataframe tbody tr th {\n",
       "        vertical-align: top;\n",
       "    }\n",
       "\n",
       "    .dataframe thead th {\n",
       "        text-align: right;\n",
       "    }\n",
       "</style>\n",
       "<table border=\"1\" class=\"dataframe\">\n",
       "  <thead>\n",
       "    <tr style=\"text-align: right;\">\n",
       "      <th></th>\n",
       "      <th>patient_id</th>\n",
       "      <th>follow_up_time</th>\n",
       "      <th>age_at_diagnosis</th>\n",
       "    </tr>\n",
       "  </thead>\n",
       "  <tbody>\n",
       "    <tr>\n",
       "      <th>0</th>\n",
       "      <td>0022fa14-8260-4b11-88cd-3fa066ede851</td>\n",
       "      <td>15</td>\n",
       "      <td>50</td>\n",
       "    </tr>\n",
       "    <tr>\n",
       "      <th>1</th>\n",
       "      <td>0183e236-7892-4aa9-8b7f-10f12676f1ec</td>\n",
       "      <td>52</td>\n",
       "      <td>21</td>\n",
       "    </tr>\n",
       "    <tr>\n",
       "      <th>2</th>\n",
       "      <td>019d3689-e49a-4f23-8ca1-65379907230b</td>\n",
       "      <td>46</td>\n",
       "      <td>30</td>\n",
       "    </tr>\n",
       "    <tr>\n",
       "      <th>3</th>\n",
       "      <td>01d468fc-55b8-45e3-8eca-dcb7a6185f28</td>\n",
       "      <td>30</td>\n",
       "      <td>26</td>\n",
       "    </tr>\n",
       "    <tr>\n",
       "      <th>4</th>\n",
       "      <td>022ff2bf-19d7-4c4d-8410-a91773ad24f2</td>\n",
       "      <td>48</td>\n",
       "      <td>26</td>\n",
       "    </tr>\n",
       "  </tbody>\n",
       "</table>\n",
       "</div>"
      ],
      "text/plain": [
       "                             patient_id  follow_up_time  age_at_diagnosis\n",
       "0  0022fa14-8260-4b11-88cd-3fa066ede851              15                50\n",
       "1  0183e236-7892-4aa9-8b7f-10f12676f1ec              52                21\n",
       "2  019d3689-e49a-4f23-8ca1-65379907230b              46                30\n",
       "3  01d468fc-55b8-45e3-8eca-dcb7a6185f28              30                26\n",
       "4  022ff2bf-19d7-4c4d-8410-a91773ad24f2              48                26"
      ]
     },
     "execution_count": 179,
     "metadata": {},
     "output_type": "execute_result"
    }
   ],
   "source": [
    "\"\"\" df_filter = df[df.follow_up_time > 0]\n",
    "print(f\"Size of the table: {df_filter.shape[0]} x {df_filter.shape[1]}\")\n",
    "df_filter.head() \"\"\"\n"
   ]
  },
  {
   "cell_type": "code",
   "execution_count": 109,
   "metadata": {},
   "outputs": [
    {
     "data": {
      "text/plain": [
       "patient_id              0\n",
       "dod                     0\n",
       "gender                  0\n",
       "age_at_diagnosis        0\n",
       "first_diagnosis_date    0\n",
       "last_diagnosis_date     0\n",
       "last_test_date          0\n",
       "last_encounter_date     0\n",
       "follow_up_time          0\n",
       "status                  0\n",
       "dtype: int64"
      ]
     },
     "execution_count": 109,
     "metadata": {},
     "output_type": "execute_result"
    }
   ],
   "source": [
    "df.isna().sum()"
   ]
  },
  {
   "cell_type": "code",
   "execution_count": 112,
   "metadata": {},
   "outputs": [
    {
     "data": {
      "text/html": [
       "<div>\n",
       "<style scoped>\n",
       "    .dataframe tbody tr th:only-of-type {\n",
       "        vertical-align: middle;\n",
       "    }\n",
       "\n",
       "    .dataframe tbody tr th {\n",
       "        vertical-align: top;\n",
       "    }\n",
       "\n",
       "    .dataframe thead th {\n",
       "        text-align: right;\n",
       "    }\n",
       "</style>\n",
       "<table border=\"1\" class=\"dataframe\">\n",
       "  <thead>\n",
       "    <tr style=\"text-align: right;\">\n",
       "      <th></th>\n",
       "      <th>age_at_diagnosis</th>\n",
       "      <th>follow_up_time</th>\n",
       "    </tr>\n",
       "  </thead>\n",
       "  <tbody>\n",
       "    <tr>\n",
       "      <th>count</th>\n",
       "      <td>795.000000</td>\n",
       "      <td>795.000000</td>\n",
       "    </tr>\n",
       "    <tr>\n",
       "      <th>mean</th>\n",
       "      <td>35.250314</td>\n",
       "      <td>29.546667</td>\n",
       "    </tr>\n",
       "    <tr>\n",
       "      <th>std</th>\n",
       "      <td>14.637569</td>\n",
       "      <td>16.296737</td>\n",
       "    </tr>\n",
       "    <tr>\n",
       "      <th>min</th>\n",
       "      <td>19.000000</td>\n",
       "      <td>0.000000</td>\n",
       "    </tr>\n",
       "    <tr>\n",
       "      <th>25%</th>\n",
       "      <td>24.000000</td>\n",
       "      <td>19.300000</td>\n",
       "    </tr>\n",
       "    <tr>\n",
       "      <th>50%</th>\n",
       "      <td>31.000000</td>\n",
       "      <td>29.800000</td>\n",
       "    </tr>\n",
       "    <tr>\n",
       "      <th>75%</th>\n",
       "      <td>42.000000</td>\n",
       "      <td>40.500000</td>\n",
       "    </tr>\n",
       "    <tr>\n",
       "      <th>max</th>\n",
       "      <td>89.000000</td>\n",
       "      <td>73.700000</td>\n",
       "    </tr>\n",
       "  </tbody>\n",
       "</table>\n",
       "</div>"
      ],
      "text/plain": [
       "       age_at_diagnosis  follow_up_time\n",
       "count        795.000000      795.000000\n",
       "mean          35.250314       29.546667\n",
       "std           14.637569       16.296737\n",
       "min           19.000000        0.000000\n",
       "25%           24.000000       19.300000\n",
       "50%           31.000000       29.800000\n",
       "75%           42.000000       40.500000\n",
       "max           89.000000       73.700000"
      ]
     },
     "execution_count": 112,
     "metadata": {},
     "output_type": "execute_result"
    }
   ],
   "source": [
    "df[[\"age_at_diagnosis\", \"follow_up_time\"]].describe()"
   ]
  },
  {
   "cell_type": "code",
   "execution_count": 175,
   "metadata": {},
   "outputs": [
    {
     "ename": "AttributeError",
     "evalue": "'Axes' object has no attribute 'map'",
     "output_type": "error",
     "traceback": [
      "\u001b[1;31m---------------------------------------------------------------------------\u001b[0m",
      "\u001b[1;31mAttributeError\u001b[0m                            Traceback (most recent call last)",
      "Cell \u001b[1;32mIn[175], line 35\u001b[0m\n\u001b[0;32m     30\u001b[0m     plt\u001b[38;5;241m.\u001b[39maxvlnie(df[x]\u001b[38;5;241m.\u001b[39mquantile(q \u001b[38;5;241m=\u001b[39m \u001b[38;5;241m0.05\u001b[39m))\n\u001b[0;32m     32\u001b[0m \u001b[38;5;66;03m#axes[1].axvline(df[\"age_at_diagnosis\"].mean(), c = \"k\")\u001b[39;00m\n\u001b[0;32m     33\u001b[0m \u001b[38;5;66;03m#axes[1].axvline(df[\"age_at_diagnosis\"].median(), c = \"r\")\u001b[39;00m\n\u001b[1;32m---> 35\u001b[0m p1\u001b[38;5;241m.\u001b[39mmap(summary_stats, \u001b[38;5;124m\"\u001b[39m\u001b[38;5;124mage_at_diagnosis\u001b[39m\u001b[38;5;124m\"\u001b[39m)\n\u001b[0;32m     37\u001b[0m plt\u001b[38;5;241m.\u001b[39mshow()\n",
      "\u001b[1;31mAttributeError\u001b[0m: 'Axes' object has no attribute 'map'"
     ]
    }
   ],
   "source": [
    "fig, axes = plt.subplots(1,2, figsize = (10,5))\n",
    "\n",
    "p1 = sns.kdeplot(\n",
    "    df,\n",
    "    x = \"follow_up_time\",\n",
    "    color = \"blue\",\n",
    "    ax = axes[0]\n",
    ")\n",
    "\n",
    "p2 = sns.kdeplot(\n",
    "    df,\n",
    "    x = \"age_at_diagnosis\",\n",
    "    ax = axes[1]\n",
    ")\n",
    "\n",
    "l1 = p1.lines[0]\n",
    "l2 = p2.lines[0]\n",
    "\n",
    "x1, y1 = l1.get_xydata()[:,0], l1.get_xydata()[:,1]\n",
    "x2, y2 = l2.get_xydata()[:,0], l2.get_xydata()[:,1]\n",
    "p1.fill_between(x1, y1, color = \"blue\", alpha = 0.4)\n",
    "axes[0].axvline(df[\"follow_up_time\"].mean(), c = \"k\")\n",
    "axes[0].axvline(df[\"follow_up_time\"].median(), c = \"r\")\n",
    "\n",
    "\n",
    "def summary_stats(x):\n",
    "    plt.axvline(df[x].mean())\n",
    "    plt.axvline(df[x].median())\n",
    "    plt.axvline(df[x].quantile(q = 0.95))\n",
    "    plt.axvlnie(df[x].quantile(q = 0.05))\n",
    "\n",
    "#axes[1].axvline(df[\"age_at_diagnosis\"].mean(), c = \"k\")\n",
    "#axes[1].axvline(df[\"age_at_diagnosis\"].median(), c = \"r\")\n",
    "\n",
    "p1.map(summary_stats, \"age_at_diagnosis\")\n",
    "\n",
    "plt.show()"
   ]
  },
  {
   "cell_type": "code",
   "execution_count": 170,
   "metadata": {},
   "outputs": [
    {
     "data": {
      "image/png": "[encoded data removed]",
      "text/plain": [
       "<Figure size 500x500 with 1 Axes>"
      ]
     },
     "metadata": {},
     "output_type": "display_data"
    }
   ],
   "source": [
    "sns.displot(df, x = \"age_at_diagnosis\", y = \"follow_up_time\", kind = \"kde\")\n",
    "plt.show()"
   ]
  },
  {
   "cell_type": "code",
   "execution_count": 145,
   "metadata": {},
   "outputs": [
    {
     "data": {
      "image/png": "[encoded data removed]",
      "text/plain": [
       "<Figure size 1000x500 with 2 Axes>"
      ]
     },
     "metadata": {},
     "output_type": "display_data"
    }
   ],
   "source": [
    "df_removenull = df[df[\"gender\"]!=\"NULL\"]\n",
    "df_removenull[[\"follow_up_time\", \"age_at_diagnosis\", \"gender\"]].boxplot(by = \"gender\", figsize=(10,5), xlabel = \"Gender\")\n",
    "plt.show()"
   ]
  },
  {
   "cell_type": "code",
   "execution_count": 146,
   "metadata": {},
   "outputs": [
    {
     "data": {
      "image/png": "[encoded data removed]",
      "text/plain": [
       "<Figure size 2000x500 with 4 Axes>"
      ]
     },
     "metadata": {},
     "output_type": "display_data"
    }
   ],
   "source": [
    "sns.displot(df_removenull, x = \"age_at_diagnosis\", col = \"gender\")\n",
    "plt.show()"
   ]
  },
  {
   "cell_type": "markdown",
   "metadata": {},
   "source": [
    "### HER2 status\n",
    "    - Calculate the intent to test rate for HER2. \n",
    "    - Calculate the tested rate for HER2.\n",
    "    - Calculate the negativity rate for HER2."
   ]
  },
  {
   "cell_type": "code",
   "execution_count": 222,
   "metadata": {},
   "outputs": [],
   "source": [
    "con = sqlite3.connect(\"techTest.db\")\n",
    "cur = con.cursor()"
   ]
  },
  {
   "cell_type": "markdown",
   "metadata": {},
   "source": [
    "### Intent to Test Rate"
   ]
  },
  {
   "cell_type": "code",
   "execution_count": 236,
   "metadata": {},
   "outputs": [
    {
     "name": "stdout",
     "output_type": "stream",
     "text": [
      "Intent to test rate is 0.50\n"
     ]
    }
   ],
   "source": [
    "cur.execute('''\n",
    "                SELECT AVG(CASE WHEN b.biomarker_name = \"HER2\" \n",
    "                                THEN 1 \n",
    "                                ELSE 0 \n",
    "                            END)\n",
    "                FROM patient as p LEFT JOIN biomarker as b on p.patient_id = b.patient_id\n",
    "                WHERE p.patient_id IN (\n",
    "                                        SELECT patient_id\n",
    "                                        FROM diagnosis\n",
    "                                        WHERE diagnosis_code LIKE \"C50%\"\n",
    "                                        )\n",
    "\n",
    "            ''')\n",
    "intent_to_test_rate = cur.fetchone()[0]\n",
    "print(f\"Intent to test rate is {intent_to_test_rate :0.2f}\")"
   ]
  },
  {
   "cell_type": "markdown",
   "metadata": {},
   "source": [
    "### Tested Rate"
   ]
  },
  {
   "cell_type": "code",
   "execution_count": 252,
   "metadata": {},
   "outputs": [
    {
     "name": "stdout",
     "output_type": "stream",
     "text": [
      "Test rate = 0.31\n"
     ]
    }
   ],
   "source": [
    "cur.execute('''\n",
    "                SELECT AVG(CASE WHEN (COALESCE(b.biomarker_name,0) = \"HER2\") AND (COALESCE(b.biomarker_test_type,0) in (\"PCR\", \"IHC\")) \n",
    "                                THEN 1 \n",
    "                                ELSE 0 \n",
    "                            END)\n",
    "                FROM patient as p LEFT JOIN biomarker as b on p.patient_id = b.patient_id\n",
    "                WHERE p.patient_id IN (\n",
    "                                        SELECT patient_id\n",
    "                                        FROM diagnosis\n",
    "                                        WHERE diagnosis_code LIKE \"C50%\"\n",
    "                                        )\n",
    "\n",
    "            ''')\n",
    "test_rate = cur.fetchone()[0]\n",
    "print(f\"Test rate = {test_rate :0.2f}\")"
   ]
  },
  {
   "cell_type": "markdown",
   "metadata": {},
   "source": [
    "### Negativity Rate\n",
    "\n",
    "Here, I am assuming that unknown is 0"
   ]
  },
  {
   "cell_type": "code",
   "execution_count": 32,
   "metadata": {},
   "outputs": [
    {
     "name": "stdout",
     "output_type": "stream",
     "text": [
      "Negativity rate = 0.14\n"
     ]
    }
   ],
   "source": [
    "cur.execute('''\n",
    "                SELECT AVG(CASE WHEN (b.biomarker_name = \"HER2\") AND (b.test_result = \"Negative\") \n",
    "                                THEN 1 \n",
    "                                ELSE 0 \n",
    "                            END)\n",
    "                FROM patient as p LEFT JOIN biomarker as b on p.patient_id = b.patient_id\n",
    "                WHERE p.patient_id IN (\n",
    "                                        SELECT patient_id\n",
    "                                        FROM diagnosis\n",
    "                                        WHERE diagnosis_code LIKE \"C50%\"\n",
    "                                        )\n",
    "\n",
    "            ''')\n",
    "negative_rate = cur.fetchone()[0]\n",
    "print(f\"Negativity rate = {negative_rate :0.2f}\")"
   ]
  },
  {
   "cell_type": "markdown",
   "metadata": {},
   "source": [
    "### Survival Analysis"
   ]
  },
  {
   "cell_type": "code",
   "execution_count": 61,
   "metadata": {},
   "outputs": [
    {
     "data": {
      "text/html": [
       "<div>\n",
       "<style scoped>\n",
       "    .dataframe tbody tr th:only-of-type {\n",
       "        vertical-align: middle;\n",
       "    }\n",
       "\n",
       "    .dataframe tbody tr th {\n",
       "        vertical-align: top;\n",
       "    }\n",
       "\n",
       "    .dataframe thead th {\n",
       "        text-align: right;\n",
       "    }\n",
       "</style>\n",
       "<table border=\"1\" class=\"dataframe\">\n",
       "  <thead>\n",
       "    <tr style=\"text-align: right;\">\n",
       "      <th></th>\n",
       "      <th>patient_id</th>\n",
       "      <th>dod</th>\n",
       "      <th>age_at_diagnosis</th>\n",
       "      <th>first_diagnosis_date</th>\n",
       "      <th>last_diagnosis_date</th>\n",
       "      <th>last_test_date</th>\n",
       "      <th>last_encounter_date</th>\n",
       "    </tr>\n",
       "  </thead>\n",
       "  <tbody>\n",
       "    <tr>\n",
       "      <th>0</th>\n",
       "      <td>0022fa14-8260-4b11-88cd-3fa066ede851</td>\n",
       "      <td>2008-03-04</td>\n",
       "      <td>50</td>\n",
       "      <td>1993-04-07</td>\n",
       "      <td>2019-05-20</td>\n",
       "      <td>2004-12-19</td>\n",
       "      <td>2019-05-20</td>\n",
       "    </tr>\n",
       "    <tr>\n",
       "      <th>1</th>\n",
       "      <td>0183e236-7892-4aa9-8b7f-10f12676f1ec</td>\n",
       "      <td>2038-03-11</td>\n",
       "      <td>21</td>\n",
       "      <td>1986-06-02</td>\n",
       "      <td>2021-10-13</td>\n",
       "      <td>2023-12-29</td>\n",
       "      <td>2023-12-29</td>\n",
       "    </tr>\n",
       "    <tr>\n",
       "      <th>2</th>\n",
       "      <td>019d3689-e49a-4f23-8ca1-65379907230b</td>\n",
       "      <td>2042-06-15</td>\n",
       "      <td>30</td>\n",
       "      <td>1996-10-05</td>\n",
       "      <td>2020-06-13</td>\n",
       "      <td>2018-03-10</td>\n",
       "      <td>2020-06-13</td>\n",
       "    </tr>\n",
       "    <tr>\n",
       "      <th>3</th>\n",
       "      <td>01d468fc-55b8-45e3-8eca-dcb7a6185f28</td>\n",
       "      <td>2007-07-30</td>\n",
       "      <td>26</td>\n",
       "      <td>1977-01-16</td>\n",
       "      <td>1981-10-28</td>\n",
       "      <td>1995-12-08</td>\n",
       "      <td>1995-12-08</td>\n",
       "    </tr>\n",
       "    <tr>\n",
       "      <th>4</th>\n",
       "      <td>022ff2bf-19d7-4c4d-8410-a91773ad24f2</td>\n",
       "      <td>2004-02-09</td>\n",
       "      <td>26</td>\n",
       "      <td>1956-06-03</td>\n",
       "      <td>2005-01-07</td>\n",
       "      <td>2021-07-29</td>\n",
       "      <td>2021-07-29</td>\n",
       "    </tr>\n",
       "  </tbody>\n",
       "</table>\n",
       "</div>"
      ],
      "text/plain": [
       "                             patient_id         dod  age_at_diagnosis  \\\n",
       "0  0022fa14-8260-4b11-88cd-3fa066ede851  2008-03-04                50   \n",
       "1  0183e236-7892-4aa9-8b7f-10f12676f1ec  2038-03-11                21   \n",
       "2  019d3689-e49a-4f23-8ca1-65379907230b  2042-06-15                30   \n",
       "3  01d468fc-55b8-45e3-8eca-dcb7a6185f28  2007-07-30                26   \n",
       "4  022ff2bf-19d7-4c4d-8410-a91773ad24f2  2004-02-09                26   \n",
       "\n",
       "  first_diagnosis_date last_diagnosis_date last_test_date last_encounter_date  \n",
       "0           1993-04-07          2019-05-20     2004-12-19          2019-05-20  \n",
       "1           1986-06-02          2021-10-13     2023-12-29          2023-12-29  \n",
       "2           1996-10-05          2020-06-13     2018-03-10          2020-06-13  \n",
       "3           1977-01-16          1981-10-28     1995-12-08          1995-12-08  \n",
       "4           1956-06-03          2005-01-07     2021-07-29          2021-07-29  "
      ]
     },
     "execution_count": 61,
     "metadata": {},
     "output_type": "execute_result"
    }
   ],
   "source": [
    "\"\"\" time_format_cols = [\"first_diagnosis_date\", \"last_diagnosis_date\", \"last_test_date\"]\n",
    "for col in time_format_cols:\n",
    "    df_survival[col] = pd.to_datetime(df_survival[col])\n",
    "\n",
    "def cal_last_encounter(row):\n",
    "    if row[\"last_diagnosis_date\"] > row[\"last_test_date\"]:\n",
    "        return row[\"last_diagnosis_date\"]\n",
    "    else:\n",
    "        return row[\"last_test_date\"]\n",
    "\n",
    "\n",
    "df_survival[\"last_encounter_date\"] = df_survival.apply(cal_last_encounter, axis = 1)\n",
    "df_survival.head() \"\"\""
   ]
  },
  {
   "cell_type": "code",
   "execution_count": 70,
   "metadata": {},
   "outputs": [
    {
     "data": {
      "text/html": [
       "<div>\n",
       "<style scoped>\n",
       "    .dataframe tbody tr th:only-of-type {\n",
       "        vertical-align: middle;\n",
       "    }\n",
       "\n",
       "    .dataframe tbody tr th {\n",
       "        vertical-align: top;\n",
       "    }\n",
       "\n",
       "    .dataframe thead th {\n",
       "        text-align: right;\n",
       "    }\n",
       "</style>\n",
       "<table border=\"1\" class=\"dataframe\">\n",
       "  <thead>\n",
       "    <tr style=\"text-align: right;\">\n",
       "      <th></th>\n",
       "      <th>patient_id</th>\n",
       "      <th>dod</th>\n",
       "      <th>age_at_diagnosis</th>\n",
       "      <th>first_diagnosis_date</th>\n",
       "      <th>last_diagnosis_date</th>\n",
       "      <th>last_test_date</th>\n",
       "      <th>last_encounter_date</th>\n",
       "      <th>follow_up_time</th>\n",
       "      <th>status</th>\n",
       "    </tr>\n",
       "  </thead>\n",
       "  <tbody>\n",
       "    <tr>\n",
       "      <th>0</th>\n",
       "      <td>0022fa14-8260-4b11-88cd-3fa066ede851</td>\n",
       "      <td>2008-03-04</td>\n",
       "      <td>50</td>\n",
       "      <td>1993-04-07</td>\n",
       "      <td>2019-05-20</td>\n",
       "      <td>2004-12-19</td>\n",
       "      <td>2019-05-20</td>\n",
       "      <td>26.1</td>\n",
       "      <td>1</td>\n",
       "    </tr>\n",
       "    <tr>\n",
       "      <th>1</th>\n",
       "      <td>0183e236-7892-4aa9-8b7f-10f12676f1ec</td>\n",
       "      <td>2038-03-11</td>\n",
       "      <td>21</td>\n",
       "      <td>1986-06-02</td>\n",
       "      <td>2021-10-13</td>\n",
       "      <td>2023-12-29</td>\n",
       "      <td>2023-12-29</td>\n",
       "      <td>37.6</td>\n",
       "      <td>0</td>\n",
       "    </tr>\n",
       "    <tr>\n",
       "      <th>2</th>\n",
       "      <td>019d3689-e49a-4f23-8ca1-65379907230b</td>\n",
       "      <td>2042-06-15</td>\n",
       "      <td>30</td>\n",
       "      <td>1996-10-05</td>\n",
       "      <td>2020-06-13</td>\n",
       "      <td>2018-03-10</td>\n",
       "      <td>2020-06-13</td>\n",
       "      <td>23.7</td>\n",
       "      <td>0</td>\n",
       "    </tr>\n",
       "    <tr>\n",
       "      <th>3</th>\n",
       "      <td>01d468fc-55b8-45e3-8eca-dcb7a6185f28</td>\n",
       "      <td>2007-07-30</td>\n",
       "      <td>26</td>\n",
       "      <td>1977-01-16</td>\n",
       "      <td>1981-10-28</td>\n",
       "      <td>1995-12-08</td>\n",
       "      <td>1995-12-08</td>\n",
       "      <td>18.9</td>\n",
       "      <td>0</td>\n",
       "    </tr>\n",
       "    <tr>\n",
       "      <th>4</th>\n",
       "      <td>022ff2bf-19d7-4c4d-8410-a91773ad24f2</td>\n",
       "      <td>2004-02-09</td>\n",
       "      <td>26</td>\n",
       "      <td>1956-06-03</td>\n",
       "      <td>2005-01-07</td>\n",
       "      <td>2021-07-29</td>\n",
       "      <td>2021-07-29</td>\n",
       "      <td>65.2</td>\n",
       "      <td>1</td>\n",
       "    </tr>\n",
       "  </tbody>\n",
       "</table>\n",
       "</div>"
      ],
      "text/plain": [
       "                             patient_id         dod  age_at_diagnosis  \\\n",
       "0  0022fa14-8260-4b11-88cd-3fa066ede851  2008-03-04                50   \n",
       "1  0183e236-7892-4aa9-8b7f-10f12676f1ec  2038-03-11                21   \n",
       "2  019d3689-e49a-4f23-8ca1-65379907230b  2042-06-15                30   \n",
       "3  01d468fc-55b8-45e3-8eca-dcb7a6185f28  2007-07-30                26   \n",
       "4  022ff2bf-19d7-4c4d-8410-a91773ad24f2  2004-02-09                26   \n",
       "\n",
       "  first_diagnosis_date last_diagnosis_date last_test_date last_encounter_date  \\\n",
       "0           1993-04-07          2019-05-20     2004-12-19          2019-05-20   \n",
       "1           1986-06-02          2021-10-13     2023-12-29          2023-12-29   \n",
       "2           1996-10-05          2020-06-13     2018-03-10          2020-06-13   \n",
       "3           1977-01-16          1981-10-28     1995-12-08          1995-12-08   \n",
       "4           1956-06-03          2005-01-07     2021-07-29          2021-07-29   \n",
       "\n",
       "   follow_up_time  status  \n",
       "0            26.1       1  \n",
       "1            37.6       0  \n",
       "2            23.7       0  \n",
       "3            18.9       0  \n",
       "4            65.2       1  "
      ]
     },
     "execution_count": 70,
     "metadata": {},
     "output_type": "execute_result"
    }
   ],
   "source": [
    "\"\"\" df_survival[\"follow_up_time\"] = ((df_survival[\"last_encounter_date\"] - df_survival[\"first_diagnosis_date\"]).dt.days/365.25).round(1)\n",
    "#patient is event if dod < last_encounter_date while censored if dod > last_encounter_date\n",
    "df_survival[\"status\"] = (df_survival[\"dod\"] < df_survival[\"last_encounter_date\"]).astype(int)\n",
    "df_survival.head() \"\"\""
   ]
  },
  {
   "cell_type": "code",
   "execution_count": 137,
   "metadata": {},
   "outputs": [
    {
     "data": {
      "text/plain": [
       "patient_id              0\n",
       "dod                     0\n",
       "gender                  0\n",
       "age_at_diagnosis        0\n",
       "first_diagnosis_date    0\n",
       "last_diagnosis_date     0\n",
       "last_test_date          0\n",
       "last_encounter_date     0\n",
       "follow_up_time          0\n",
       "status                  0\n",
       "dtype: int64"
      ]
     },
     "execution_count": 137,
     "metadata": {},
     "output_type": "execute_result"
    }
   ],
   "source": [
    "assert (df[\"follow_up_time\"] < 0).sum() == 0\n",
    "\n",
    "df.isna().sum()"
   ]
  },
  {
   "cell_type": "code",
   "execution_count": 138,
   "metadata": {},
   "outputs": [
    {
     "data": {
      "image/png": "[encoded data removed]",
      "text/plain": [
       "<Figure size 600x600 with 1 Axes>"
      ]
     },
     "metadata": {},
     "output_type": "display_data"
    }
   ],
   "source": [
    "\n",
    "stratify_age = 60\n",
    "mask = df[\"age_at_diagnosis\"] > stratify_age\n",
    "fig, axes = plt.subplots(figsize = (6,6))\n",
    "\n",
    "km = KaplanMeierFitter()\n",
    "km_lowerage = km.fit(df.loc[mask,\"follow_up_time\"], df.loc[mask,\"status\"])\n",
    "km_lowerage.plot(label = f\"above {stratify_age}\")\n",
    "km_upperage = km.fit(df.loc[~mask,\"follow_up_time\"], df.loc[~mask,\"status\"])\n",
    "km_upperage.plot(label = f\"below {stratify_age}\", xlabel = \"Survival Time (Years)\", ylabel = \"Pr (T>t)\")\n",
    "plt.show()"
   ]
  },
  {
   "cell_type": "code",
   "execution_count": 132,
   "metadata": {},
   "outputs": [
    {
     "name": "stdout",
     "output_type": "stream",
     "text": [
      "<lifelines.StatisticalResult: logrank_test>\n",
      "               t_0 = -1\n",
      " null_distribution = chi squared\n",
      "degrees_of_freedom = 1\n",
      "         test_name = logrank_test\n",
      "\n",
      "---\n",
      " test_statistic      p  -log2(p)\n",
      "         580.79 <0.005    423.87\n"
     ]
    }
   ],
   "source": [
    "stats_results = logrank_test(df.loc[mask,\"follow_up_time\"], df.loc[~mask,\"follow_up_time\"], df.loc[mask,\"status\"], df.loc[~mask,\"status\"])\n",
    "\n",
    "print(stats_results)"
   ]
  },
  {
   "cell_type": "code",
   "execution_count": 33,
   "metadata": {},
   "outputs": [
    {
     "name": "stdout",
     "output_type": "stream",
     "text": [
      "('019d3689-e49a-4f23-8ca1-65379907230b', '2020-06-13 00:00:00', 'C50', 'icd10')\n",
      "('019d3689-e49a-4f23-8ca1-65379907230b', '1996-10-05 00:00:00', 'C50.4', 'icd10')\n",
      "('019d3689-e49a-4f23-8ca1-65379907230b', '2004-10-30 00:00:00', 'C50.4', 'icd10')\n",
      "('81de4975-519f-48c6-a5fa-a57d891495a6', '1986-04-01 00:00:00', 'C50', 'icd10')\n",
      "('dbed4b3e-33ba-4856-a78d-3db6d211def8', '1997-12-21 00:00:00', 'C51', 'icd10')\n",
      "('dbed4b3e-33ba-4856-a78d-3db6d211def8', '1995-04-24 00:00:00', 'J18.9', 'icd10')\n",
      "('dbed4b3e-33ba-4856-a78d-3db6d211def8', '2017-06-08 00:00:00', 'C50.2', 'icd10')\n",
      "('dbed4b3e-33ba-4856-a78d-3db6d211def8', '2016-06-30 00:00:00', 'C50.49', 'icd10')\n",
      "('dbed4b3e-33ba-4856-a78d-3db6d211def8', '1993-09-08 00:00:00', 'I10', 'icd10')\n",
      "('32808df0-103c-409e-ad6b-60ec55d60612', '1968-08-20 00:00:00', 'C50.2', 'icd10')\n"
     ]
    }
   ],
   "source": [
    "cur.execute('''\n",
    "                SELECT *\n",
    "                FROM diagnosis\n",
    "                \n",
    "\n",
    "''')\n",
    "\n",
    "for item in cur.fetchmany(10):\n",
    "    print(item)"
   ]
  }
 ],
 "metadata": {
  "kernelspec": {
   "display_name": "base",
   "language": "python",
   "name": "python3"
  },
  "language_info": {
   "codemirror_mode": {
    "name": "ipython",
    "version": 3
   },
   "file_extension": ".py",
   "mimetype": "text/x-python",
   "name": "python",
   "nbconvert_exporter": "python",
   "pygments_lexer": "ipython3",
   "version": "3.11.7"
  }
 },
 "nbformat": 4,
 "nbformat_minor": 2
}
