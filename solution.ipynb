{
 "cells": [
  {
   "cell_type": "markdown",
   "metadata": {},
   "source": [
    "**ConcertAI Techtest** <br>\n",
    "**Author**: Vinay Barnabas\n",
    "\n",
    "*Tech Stack*: VSCode + Jupyter Notebooks <br>\n",
    "*Presentation*: Jupyter Notebooks <br>\n",
    "*Version Control*: Git <br>\n",
    "*Github repository*: https://github.com/VinylBr/InterviewTechTestSol <br>\n",
    "*App link*: https://vinylbr-interviewtechtestsol-app-bc-ds9ega.streamlit.app/\n"
   ]
  },
  {
   "cell_type": "code",
   "execution_count": 25,
   "metadata": {},
   "outputs": [],
   "source": [
    "# importing necessary libraries\n",
    "import sqlite3\n",
    "import pandas as pd\n",
    "import numpy as np\n",
    "import seaborn as sns #plotting\n",
    "import matplotlib.pyplot as plt #plotting\n",
    "from lifelines import KaplanMeierFitter #survival analysis\n",
    "from lifelines.statistics import logrank_test #statistical test in survival analysis\n",
    "from lifelines.utils import median_survival_times #summary statistic for median survival times\n",
    "from datetime import datetime\n",
    "\n",
    "# muting FutureWarnings. These are warnings about features that will be removed in a future version\n",
    "import warnings\n",
    "warnings.simplefilter(action = \"ignore\", category = FutureWarning)"
   ]
  },
  {
   "cell_type": "markdown",
   "metadata": {},
   "source": [
    "*Plotting conventions for the notebook*"
   ]
  },
  {
   "cell_type": "code",
   "execution_count": 26,
   "metadata": {},
   "outputs": [],
   "source": [
    "# define plot style\n",
    "def set_plot_style():\n",
    "    '''\n",
    "    function to set figure parameters\n",
    "    Inputs: None\n",
    "    Return: None\n",
    "    '''\n",
    "\n",
    "    # define style: plots will not have gridlines. X- and y- ticks would be present\n",
    "    sns.set_style('ticks')\n",
    "\n",
    "    # parameter to control scaling of plot elements.\n",
    "    sns.set_context('notebook')\n",
    "\n",
    "    # fix figure parameters\n",
    "    plt.rcParams['figure.figsize'] = (10,6)\n",
    "    plt.rcParams['axes.labelsize'] = 12\n",
    "    plt.rcParams['axes.titlesize'] = 12\n",
    "    plt.rcParams['xtick.labelsize'] = 10\n",
    "    plt.rcParams['ytick.labelsize'] = 10\n",
    "    plt.rcParams['legend.fontsize'] = 10\n",
    "    plt.rcParams['lines.linewidth'] = 2\n",
    "    \n",
    "    # fix color palette\n",
    "    sns.set_palette('muted')\n",
    "\n",
    "def frame_off(ax):\n",
    "    '''\n",
    "    function to remove outer frame in plots\n",
    "    Inputs: ax = plot axes\n",
    "    Return: Nothing\n",
    "    '''\n",
    "    for _, spines in ax.spines.items():\n",
    "        spines.set_visible(False)\n",
    "\n",
    "\n",
    "# fix figure paraeters by calling the function\n",
    "set_plot_style()"
   ]
  },
  {
   "cell_type": "markdown",
   "metadata": {},
   "source": [
    "## Data Exploration and Cleaning"
   ]
  },
  {
   "cell_type": "code",
   "execution_count": 27,
   "metadata": {},
   "outputs": [],
   "source": [
    "# Establish connection to sqlite3 database and define a cursor\n",
    "con = sqlite3.connect(\"techTest.db\")\n",
    "cur = con.cursor()"
   ]
  },
  {
   "cell_type": "code",
   "execution_count": 28,
   "metadata": {},
   "outputs": [
    {
     "name": "stdout",
     "output_type": "stream",
     "text": [
      "Table patient with 1000 rows\n",
      "             name  data_type  notnull default_value  primary_key\n",
      "index                                                           \n",
      "0      patient_id       TEXT        0          None            0\n",
      "1             dob  TIMESTAMP        0          None            0\n",
      "2             dod  TIMESTAMP        0          None            0\n",
      "3          gender       TEXT        0          None            0\n",
      "--------------------------------------------------\n",
      "\n",
      "\n",
      "Table diagnosis with 3026 rows\n",
      "                      name  data_type  notnull default_value  primary_key\n",
      "index                                                                    \n",
      "0               patient_id       TEXT        0          None            0\n",
      "1           diagnosis_date  TIMESTAMP        0          None            0\n",
      "2           diagnosis_code       TEXT        0          None            0\n",
      "3      diagnosis_code_type       TEXT        0          None            0\n",
      "--------------------------------------------------\n",
      "\n",
      "\n",
      "Table biomarker with 3049 rows\n",
      "                      name  data_type  notnull default_value  primary_key\n",
      "index                                                                    \n",
      "0               patient_id       TEXT        0          None            0\n",
      "1                test_date  TIMESTAMP        0          None            0\n",
      "2           biomarker_name       TEXT        0          None            0\n",
      "3      biomarker_test_type       TEXT        0          None            0\n",
      "4              test_result       TEXT        0          None            0\n",
      "--------------------------------------------------\n",
      "\n",
      "\n"
     ]
    }
   ],
   "source": [
    "# query to extract table info from sqlite_master\n",
    "sql_master_query = '''--sql\n",
    "                SELECT name\n",
    "                FROM sqlite_master\n",
    "                WHERE type = \"table\";\n",
    "            '''\n",
    "# Execute the query and fetchall the results\n",
    "cur.execute(sql_master_query)\n",
    "list_table_info = cur.fetchall()\n",
    "\n",
    "cols_pragma = [\"index\", \"name\", \"data_type\", \"notnull\", \"default_value\", \"primary_key\"] #from PRAGMA info\n",
    "\n",
    "# for each table display PRAGMA table information\n",
    "for item in list_table_info:\n",
    "    # get number of rows for each table\n",
    "    sql_row_query = f\"\"\"--sql\n",
    "                      SELECT COUNT(*) \n",
    "                      FROM {item[0]};\n",
    "                      \"\"\"\n",
    "    cur.execute(sql_row_query)\n",
    "    num_rows = cur.fetchone()[0] # [0] is to obtain the first element of the output tuple\n",
    "    print(f\"Table {item[0]} with {num_rows} rows\")\n",
    "    \n",
    "    # get number of columns, their names, type, whether NULL is allowed, whether primary key\n",
    "    sql_column_query = f\"PRAGMA table_info({item[0]})\"\n",
    "    cur.execute(sql_column_query)\n",
    "    column_info = cur.fetchall()\n",
    "\n",
    "    # create a dataframe for each column info\n",
    "    df_temp = pd.DataFrame(column_info, columns = cols_pragma).set_index(\"index\")\n",
    "    print(df_temp)\n",
    "\n",
    "    print(50*\"-\")\n",
    "    print(\"\\n\")"
   ]
  },
  {
   "cell_type": "markdown",
   "metadata": {},
   "source": [
    "**OBSERVATION**: <br>\n",
    "- Tables diagnosis and biomarkers have more than 1000 records since each patient_id has multiple diagnosis dates and biomarker test dates\n",
    "- patient_id can be used as a key to join the three tables"
   ]
  },
  {
   "cell_type": "markdown",
   "metadata": {},
   "source": [
    "### Sanity Checks\n"
   ]
  },
  {
   "cell_type": "markdown",
   "metadata": {},
   "source": [
    "*Is date of birth later than date of death?*"
   ]
  },
  {
   "cell_type": "code",
   "execution_count": 29,
   "metadata": {},
   "outputs": [],
   "source": [
    "# query to count number of patients where date of birth is later than date of death\n",
    "sql_query = '''--sql\n",
    "            \n",
    "            SELECT COUNT(*)\n",
    "            FROM Patient\n",
    "            WHERE dob > dod\n",
    "            \n",
    "            ;'''\n",
    "\n",
    "cur.execute(sql_query)\n",
    "\n",
    "# assert statement returns an error if False\n",
    "assert cur.fetchall()[0][0] == 0, \"Date of Birth is later than Date of death\""
   ]
  },
  {
   "cell_type": "markdown",
   "metadata": {},
   "source": [
    "*Is date of death later than 2024?*"
   ]
  },
  {
   "cell_type": "code",
   "execution_count": 30,
   "metadata": {},
   "outputs": [
    {
     "name": "stdout",
     "output_type": "stream",
     "text": [
      "Number of records in Patient table where date of death is later than current date: 174\n"
     ]
    }
   ],
   "source": [
    "#query to identify patients whose year of death is later than 2024\n",
    "sql_death_query = '''--sql\n",
    "            \n",
    "                    SELECT COUNT(*)\n",
    "                    FROM patient\n",
    "                    ---converting dod to year format and comparing to 2024--- \n",
    "                    WHERE STRFTIME(\"%Y\",dod) > STRFTIME(\"%Y\",\"now\");\n",
    "                \n",
    "                '''\n",
    "cur.execute(sql_death_query)\n",
    "\n",
    "num_dodbiggernow = cur.fetchone()[0]\n",
    "\n",
    "print(f\"Number of records in Patient table where date of death is later than current date: {num_dodbiggernow}\")"
   ]
  },
  {
   "cell_type": "markdown",
   "metadata": {},
   "source": [
    "*Is date of death earlier than earliest date of diagnosis?*\n",
    "\n",
    "Here, <br>\n",
    "earliest date of diagnosis = MIN(diagnosis_date) <br>\n",
    "last date of diagnosis = MAX(diagnosis_date)"
   ]
  },
  {
   "cell_type": "code",
   "execution_count": 31,
   "metadata": {},
   "outputs": [
    {
     "data": {
      "image/png": "[encoded data removed]",
      "text/plain": [
       "<Figure size 1000x600 with 2 Axes>"
      ]
     },
     "metadata": {},
     "output_type": "display_data"
    }
   ],
   "source": [
    "#query to calculate difference between date of death (dod) and the date of first diagnosis and dod and the date of last diagnosis\n",
    "query = '''--sql\n",
    "            SELECT \n",
    "                STRFTIME(\"%Y\", p.dod) - STRFTIME(\"%Y\",MIN(d.diagnosis_date)) as dod_firstdiagnosis, \n",
    "                STRFTIME(\"%Y\", p.dod) - STRFTIME(\"%Y\",MAX(d.diagnosis_date)) as dod_lastdiagnosis\n",
    "            \n",
    "            ---LEFT JOIN Patient and Diagnosis table on key patient_id---\n",
    "            FROM \n",
    "                Patient as p \n",
    "            LEFT JOIN \n",
    "                Diagnosis as d \n",
    "                    ON p.patient_id = d.patient_id \n",
    "            \n",
    "            WHERE \n",
    "                d.diagnosis_code LIKE \"C50%\"\n",
    "            \n",
    "            GROUP BY \n",
    "                p.patient_id\n",
    "        \n",
    "            ;\n",
    "        '''\n",
    "\n",
    "# generating a dataframe using sqlquery\n",
    "df_dod_diagnosis = pd.read_sql_query(query, con)\n",
    "\n",
    "# plot distribution of (dod - date of firstdiagnosis) and (dod - date of lastdiagnosis)\n",
    "fig, ax = plt.subplots(1,2)\n",
    "kde_dod_firstdiagnosis = sns.kdeplot(df_dod_diagnosis, \n",
    "                                     x = \"dod_firstdiagnosis\",\n",
    "                                     color = \"b\", \n",
    "                                     ax = ax[0])\n",
    "\n",
    "kde_dod_lastdiagnosis = sns.kdeplot(df_dod_diagnosis, \n",
    "                                    x = \"dod_lastdiagnosis\",\n",
    "                                    color = \"b\", \n",
    "                                    ax = ax[1])\n",
    "\n",
    "\n",
    "# shade the area under kdeplot where difference (dod - date of first diagnosis) and (dod - date of last diagnosis) is negative\n",
    "l1 = kde_dod_firstdiagnosis.lines[0]\n",
    "l2 = kde_dod_lastdiagnosis.lines[0]\n",
    "# get x and y coordinates of kernel-density function\n",
    "x1, y1 = l1.get_xydata()[:,0], l1.get_xydata()[:,1]\n",
    "x2, y2 = l2.get_xydata()[:,0], l2.get_xydata()[:,1]\n",
    "\n",
    "# fill area using x and y coordinates\n",
    "kde_dod_firstdiagnosis.fill_between(x1, y1, \n",
    "                                    where = x1<=0, #where x-axis is negative\n",
    "                                    color = \"b\")\n",
    "kde_dod_lastdiagnosis.fill_between(x2, y2, \n",
    "                                   where = x2<=0, #where x-axis is negative\n",
    "                                   color = \"b\")\n",
    "\n",
    "# label the shaded area which is the fraction of cases where difference is negative\n",
    "x_pos_first, y_pos_first = -45, 0.006\n",
    "x_pos_last, y_pos_last = -65, 0.006\n",
    "ax[0].text(x_pos_first, y_pos_first, f\"{100*(df_dod_diagnosis['dod_firstdiagnosis'] < 0).mean():0.1f}%\", color = \"b\")\n",
    "ax[1].text(x_pos_last, y_pos_last, f\"{100*(df_dod_diagnosis['dod_lastdiagnosis'] < 0).mean():0.1f}%\", color = \"b\")\n",
    "\n",
    "# provide axes labels set their limits\n",
    "ax[0].set_xlabel(\"Year of Death - Year of First Diagnosis\")\n",
    "ax[1].set_xlabel(\"Year of Death - Year of Last Diagnosis\")\n",
    "ax[0].set_xlim([-80, 80])\n",
    "ax[1].set_xlim([-80, 80])\n",
    "\n",
    "# remove the frames for both axes\n",
    "frame_off(ax[0])\n",
    "frame_off(ax[1])\n",
    "\n",
    "# increase padding between the subplots\n",
    "fig.tight_layout(pad = 2)"
   ]
  },
  {
   "cell_type": "markdown",
   "metadata": {},
   "source": [
    "**OBSERVATIONS**: <br>\n",
    "1. More than 50% of patients have date of death sooner than date of last diagnosis\n",
    "2. More than 20% of patients have date of death sooner than date of first diagnosis "
   ]
  },
  {
   "cell_type": "code",
   "execution_count": 32,
   "metadata": {},
   "outputs": [],
   "source": [
    "#c close the connection to the sqlite database\n",
    "con.close()"
   ]
  },
  {
   "cell_type": "markdown",
   "metadata": {},
   "source": [
    "Approach: <br>\n",
    "----\n",
    "\n",
    "**Assumptions**: <br> <br>\n",
    "Assume that diagnosis_dates and biomarker_test_dates are more reliable than date of death column. \n",
    "\n",
    "Patients where date of death < (date of first diagnosis, biomarker test dates); set the date of death to NA <br>\n",
    "<br>\n",
    "\n",
    "**Definitions**: <br> <br>\n",
    "_Follow-up time_ = MIN(diagnosis_date (only BC)) - Max(diagnosis_date (all), biomarker_test_date (all), date of death) <br>\n",
    "\n",
    "\n",
    "\n",
    "_Age at diagnosis_ = MIN(diagnosis_date) - DOB\n",
    "\n",
    "\n",
    "\n"
   ]
  },
  {
   "cell_type": "markdown",
   "metadata": {},
   "source": [
    "## Data maturity \n",
    "1. Calculate the summary statistics and plot the distribution of follow up time for BC patients.\n",
    "2. Calculate the summary statistics and plot the distribution of age at initial diagnosis for BC patients"
   ]
  },
  {
   "cell_type": "code",
   "execution_count": 33,
   "metadata": {},
   "outputs": [
    {
     "name": "stdout",
     "output_type": "stream",
     "text": [
      "Size of the table: 941 x 6\n"
     ]
    },
    {
     "data": {
      "text/html": [
       "<div>\n",
       "<style scoped>\n",
       "    .dataframe tbody tr th:only-of-type {\n",
       "        vertical-align: middle;\n",
       "    }\n",
       "\n",
       "    .dataframe tbody tr th {\n",
       "        vertical-align: top;\n",
       "    }\n",
       "\n",
       "    .dataframe thead th {\n",
       "        text-align: right;\n",
       "    }\n",
       "</style>\n",
       "<table border=\"1\" class=\"dataframe\">\n",
       "  <thead>\n",
       "    <tr style=\"text-align: right;\">\n",
       "      <th></th>\n",
       "      <th>patient_id</th>\n",
       "      <th>dod</th>\n",
       "      <th>age_at_diagnosis</th>\n",
       "      <th>first_diagnosis_date</th>\n",
       "      <th>last_diagnosis_date</th>\n",
       "      <th>last_test_date</th>\n",
       "    </tr>\n",
       "  </thead>\n",
       "  <tbody>\n",
       "    <tr>\n",
       "      <th>0</th>\n",
       "      <td>0004477e-31f7-4704-a123-2b68dd64aaed</td>\n",
       "      <td>2008-03-20</td>\n",
       "      <td>59</td>\n",
       "      <td>2019-11-04</td>\n",
       "      <td>2019-11-04</td>\n",
       "      <td>2011-12-03</td>\n",
       "    </tr>\n",
       "    <tr>\n",
       "      <th>1</th>\n",
       "      <td>0022fa14-8260-4b11-88cd-3fa066ede851</td>\n",
       "      <td>2008-03-04</td>\n",
       "      <td>50</td>\n",
       "      <td>1993-04-07</td>\n",
       "      <td>2019-05-20</td>\n",
       "      <td>2004-12-19</td>\n",
       "    </tr>\n",
       "    <tr>\n",
       "      <th>2</th>\n",
       "      <td>0183e236-7892-4aa9-8b7f-10f12676f1ec</td>\n",
       "      <td>2038-03-11</td>\n",
       "      <td>21</td>\n",
       "      <td>1986-06-02</td>\n",
       "      <td>2021-10-13</td>\n",
       "      <td>2023-12-29</td>\n",
       "    </tr>\n",
       "    <tr>\n",
       "      <th>3</th>\n",
       "      <td>019d3689-e49a-4f23-8ca1-65379907230b</td>\n",
       "      <td>2042-06-15</td>\n",
       "      <td>30</td>\n",
       "      <td>1996-10-05</td>\n",
       "      <td>2020-06-13</td>\n",
       "      <td>2018-03-10</td>\n",
       "    </tr>\n",
       "    <tr>\n",
       "      <th>4</th>\n",
       "      <td>01d468fc-55b8-45e3-8eca-dcb7a6185f28</td>\n",
       "      <td>2007-07-30</td>\n",
       "      <td>26</td>\n",
       "      <td>1977-01-16</td>\n",
       "      <td>1981-10-28</td>\n",
       "      <td>1995-12-08</td>\n",
       "    </tr>\n",
       "    <tr>\n",
       "      <th>5</th>\n",
       "      <td>022ff2bf-19d7-4c4d-8410-a91773ad24f2</td>\n",
       "      <td>2004-02-09</td>\n",
       "      <td>26</td>\n",
       "      <td>1956-06-03</td>\n",
       "      <td>2005-01-07</td>\n",
       "      <td>2021-07-29</td>\n",
       "    </tr>\n",
       "    <tr>\n",
       "      <th>6</th>\n",
       "      <td>023f0abd-4675-4b59-96e9-5b5ca052560a</td>\n",
       "      <td>2027-08-10</td>\n",
       "      <td>25</td>\n",
       "      <td>1991-07-11</td>\n",
       "      <td>2009-04-15</td>\n",
       "      <td>2014-06-08</td>\n",
       "    </tr>\n",
       "    <tr>\n",
       "      <th>7</th>\n",
       "      <td>02c9feee-9e65-499f-bb93-e8aa1aba0160</td>\n",
       "      <td>2013-10-16</td>\n",
       "      <td>27</td>\n",
       "      <td>1993-08-01</td>\n",
       "      <td>2020-12-05</td>\n",
       "      <td>2023-07-09</td>\n",
       "    </tr>\n",
       "    <tr>\n",
       "      <th>8</th>\n",
       "      <td>030f8523-82f4-44d0-bb76-e0cd71237b88</td>\n",
       "      <td>1967-09-18</td>\n",
       "      <td>45</td>\n",
       "      <td>1980-02-07</td>\n",
       "      <td>2003-09-09</td>\n",
       "      <td>1954-10-24</td>\n",
       "    </tr>\n",
       "    <tr>\n",
       "      <th>9</th>\n",
       "      <td>0337f270-8ffe-432f-99e4-64060cd2a360</td>\n",
       "      <td>2032-05-22</td>\n",
       "      <td>41</td>\n",
       "      <td>2007-09-02</td>\n",
       "      <td>2018-12-29</td>\n",
       "      <td>2017-06-11</td>\n",
       "    </tr>\n",
       "  </tbody>\n",
       "</table>\n",
       "</div>"
      ],
      "text/plain": [
       "                             patient_id         dod  age_at_diagnosis  \\\n",
       "0  0004477e-31f7-4704-a123-2b68dd64aaed  2008-03-20                59   \n",
       "1  0022fa14-8260-4b11-88cd-3fa066ede851  2008-03-04                50   \n",
       "2  0183e236-7892-4aa9-8b7f-10f12676f1ec  2038-03-11                21   \n",
       "3  019d3689-e49a-4f23-8ca1-65379907230b  2042-06-15                30   \n",
       "4  01d468fc-55b8-45e3-8eca-dcb7a6185f28  2007-07-30                26   \n",
       "5  022ff2bf-19d7-4c4d-8410-a91773ad24f2  2004-02-09                26   \n",
       "6  023f0abd-4675-4b59-96e9-5b5ca052560a  2027-08-10                25   \n",
       "7  02c9feee-9e65-499f-bb93-e8aa1aba0160  2013-10-16                27   \n",
       "8  030f8523-82f4-44d0-bb76-e0cd71237b88  1967-09-18                45   \n",
       "9  0337f270-8ffe-432f-99e4-64060cd2a360  2032-05-22                41   \n",
       "\n",
       "  first_diagnosis_date last_diagnosis_date last_test_date  \n",
       "0           2019-11-04          2019-11-04     2011-12-03  \n",
       "1           1993-04-07          2019-05-20     2004-12-19  \n",
       "2           1986-06-02          2021-10-13     2023-12-29  \n",
       "3           1996-10-05          2020-06-13     2018-03-10  \n",
       "4           1977-01-16          1981-10-28     1995-12-08  \n",
       "5           1956-06-03          2005-01-07     2021-07-29  \n",
       "6           1991-07-11          2009-04-15     2014-06-08  \n",
       "7           1993-08-01          2020-12-05     2023-07-09  \n",
       "8           1980-02-07          2003-09-09     1954-10-24  \n",
       "9           2007-09-02          2018-12-29     2017-06-11  "
      ]
     },
     "execution_count": 33,
     "metadata": {},
     "output_type": "execute_result"
    }
   ],
   "source": [
    "#connect to the sqlite database\n",
    "con = sqlite3.connect(\"techTest.db\")\n",
    "cur = con.cursor()\n",
    "\n",
    "query_patient = '''--sql\n",
    "                SELECT \n",
    "                    p.patient_id as patient_id, \n",
    "                    date(p.dod) as dod,  \n",
    "                    STRFTIME(\"%Y\", MIN(d.diagnosis_date)) - STRFTIME(\"%Y\",p.dob) as age_at_diagnosis, \n",
    "                    date(MIN(d.diagnosis_date)) as first_diagnosis_date, \n",
    "                    sub_dates.last_diagnosis_date as last_diagnosis_date, \n",
    "                    sub_dates.last_test_date as last_test_date\n",
    "\n",
    "                ---Patient joined to Diagnosis---\n",
    "                FROM \n",
    "                    patient as p \n",
    "                LEFT JOIN \n",
    "                    diagnosis as d\n",
    "                        ON p.patient_id = d.patient_id\n",
    "\n",
    "                ---Left JOIN to sub-query that calculates last_diagnosis_date and last_test_date---\n",
    "                ---last_diagnosis_date and last_test_date are calculated without considered BC status---\n",
    "                ---This is because last encounter in the database should be disease independent---                        \n",
    "                LEFT JOIN\n",
    "                    (SELECT \n",
    "                        sub_p.patient_id, \n",
    "                        date(MAX(sub_d.diagnosis_date)) as last_diagnosis_date,\n",
    "                        date(MAX(sub_b.test_date)) as last_test_date\n",
    "\n",
    "                    FROM\n",
    "                        patient as sub_p\n",
    "                    LEFT JOIN\n",
    "                        diagnosis as sub_d \n",
    "                            ON sub_p.patient_id = sub_d.patient_id\n",
    "                    LEFT JOIN\n",
    "                        biomarker as sub_b\n",
    "                            ON sub_p.patient_id = sub_b.patient_id\n",
    "                    \n",
    "                    GROUP BY\n",
    "                        sub_p.patient_id\n",
    "                    ) as sub_dates\n",
    "                        ON p.patient_id = sub_dates.patient_id \n",
    "\n",
    "                WHERE  \n",
    "                    d.diagnosis_code LIKE \"C50%\"\n",
    "                        \n",
    "                GROUP BY \n",
    "                    p.patient_id;\n",
    "\n",
    "                '''\n",
    "\n",
    "df = pd.read_sql_query(query_patient, con)\n",
    "\n",
    "print(f\"Size of the table: {df.shape[0]} x {df.shape[1]}\")\n",
    "df.head(n = 10)"
   ]
  },
  {
   "cell_type": "code",
   "execution_count": 34,
   "metadata": {},
   "outputs": [
    {
     "name": "stdout",
     "output_type": "stream",
     "text": [
      "<class 'pandas.core.frame.DataFrame'>\n",
      "RangeIndex: 941 entries, 0 to 940\n",
      "Data columns (total 6 columns):\n",
      " #   Column                Non-Null Count  Dtype \n",
      "---  ------                --------------  ----- \n",
      " 0   patient_id            941 non-null    object\n",
      " 1   dod                   941 non-null    object\n",
      " 2   age_at_diagnosis      941 non-null    int64 \n",
      " 3   first_diagnosis_date  941 non-null    object\n",
      " 4   last_diagnosis_date   941 non-null    object\n",
      " 5   last_test_date        941 non-null    object\n",
      "dtypes: int64(1), object(5)\n",
      "memory usage: 44.2+ KB\n"
     ]
    }
   ],
   "source": [
    "df.info()"
   ]
  },
  {
   "cell_type": "markdown",
   "metadata": {},
   "source": [
    "*DOD that is later than today is set to today's date*"
   ]
  },
  {
   "cell_type": "code",
   "execution_count": 35,
   "metadata": {},
   "outputs": [
    {
     "data": {
      "text/html": [
       "<div>\n",
       "<style scoped>\n",
       "    .dataframe tbody tr th:only-of-type {\n",
       "        vertical-align: middle;\n",
       "    }\n",
       "\n",
       "    .dataframe tbody tr th {\n",
       "        vertical-align: top;\n",
       "    }\n",
       "\n",
       "    .dataframe thead th {\n",
       "        text-align: right;\n",
       "    }\n",
       "</style>\n",
       "<table border=\"1\" class=\"dataframe\">\n",
       "  <thead>\n",
       "    <tr style=\"text-align: right;\">\n",
       "      <th></th>\n",
       "      <th>patient_id</th>\n",
       "      <th>dod</th>\n",
       "      <th>age_at_diagnosis</th>\n",
       "      <th>first_diagnosis_date</th>\n",
       "      <th>last_diagnosis_date</th>\n",
       "      <th>last_test_date</th>\n",
       "    </tr>\n",
       "  </thead>\n",
       "  <tbody>\n",
       "    <tr>\n",
       "      <th>0</th>\n",
       "      <td>0004477e-31f7-4704-a123-2b68dd64aaed</td>\n",
       "      <td>2008-03-20</td>\n",
       "      <td>59</td>\n",
       "      <td>2019-11-04</td>\n",
       "      <td>2019-11-04</td>\n",
       "      <td>2011-12-03</td>\n",
       "    </tr>\n",
       "    <tr>\n",
       "      <th>1</th>\n",
       "      <td>0022fa14-8260-4b11-88cd-3fa066ede851</td>\n",
       "      <td>2008-03-04</td>\n",
       "      <td>50</td>\n",
       "      <td>1993-04-07</td>\n",
       "      <td>2019-05-20</td>\n",
       "      <td>2004-12-19</td>\n",
       "    </tr>\n",
       "    <tr>\n",
       "      <th>2</th>\n",
       "      <td>0183e236-7892-4aa9-8b7f-10f12676f1ec</td>\n",
       "      <td>2024-07-01</td>\n",
       "      <td>21</td>\n",
       "      <td>1986-06-02</td>\n",
       "      <td>2021-10-13</td>\n",
       "      <td>2023-12-29</td>\n",
       "    </tr>\n",
       "    <tr>\n",
       "      <th>3</th>\n",
       "      <td>019d3689-e49a-4f23-8ca1-65379907230b</td>\n",
       "      <td>2024-07-01</td>\n",
       "      <td>30</td>\n",
       "      <td>1996-10-05</td>\n",
       "      <td>2020-06-13</td>\n",
       "      <td>2018-03-10</td>\n",
       "    </tr>\n",
       "    <tr>\n",
       "      <th>4</th>\n",
       "      <td>01d468fc-55b8-45e3-8eca-dcb7a6185f28</td>\n",
       "      <td>2007-07-30</td>\n",
       "      <td>26</td>\n",
       "      <td>1977-01-16</td>\n",
       "      <td>1981-10-28</td>\n",
       "      <td>1995-12-08</td>\n",
       "    </tr>\n",
       "  </tbody>\n",
       "</table>\n",
       "</div>"
      ],
      "text/plain": [
       "                             patient_id        dod  age_at_diagnosis  \\\n",
       "0  0004477e-31f7-4704-a123-2b68dd64aaed 2008-03-20                59   \n",
       "1  0022fa14-8260-4b11-88cd-3fa066ede851 2008-03-04                50   \n",
       "2  0183e236-7892-4aa9-8b7f-10f12676f1ec 2024-07-01                21   \n",
       "3  019d3689-e49a-4f23-8ca1-65379907230b 2024-07-01                30   \n",
       "4  01d468fc-55b8-45e3-8eca-dcb7a6185f28 2007-07-30                26   \n",
       "\n",
       "  first_diagnosis_date last_diagnosis_date last_test_date  \n",
       "0           2019-11-04          2019-11-04     2011-12-03  \n",
       "1           1993-04-07          2019-05-20     2004-12-19  \n",
       "2           1986-06-02          2021-10-13     2023-12-29  \n",
       "3           1996-10-05          2020-06-13     2018-03-10  \n",
       "4           1977-01-16          1981-10-28     1995-12-08  "
      ]
     },
     "execution_count": 35,
     "metadata": {},
     "output_type": "execute_result"
    }
   ],
   "source": [
    "df_dod_mod = df.copy()\n",
    "\n",
    "# Converting columns with date-time to pandas date-time\n",
    "time_format_cols = [\"first_diagnosis_date\", \"last_diagnosis_date\", \"last_test_date\", \"dod\"]\n",
    "for col in time_format_cols:\n",
    "    df_dod_mod[col] = pd.to_datetime(df_dod_mod[col])\n",
    "\n",
    "today = datetime(2024, 7, 1)\n",
    "df_dod_mod.loc[df_dod_mod[\"dod\"] > today, \"dod\"] = today\n",
    "df_dod_mod.head()"
   ]
  },
  {
   "cell_type": "markdown",
   "metadata": {},
   "source": [
    "*DOD that is sooner than either diagnosis dates of test_dates is set to NA*"
   ]
  },
  {
   "cell_type": "code",
   "execution_count": 36,
   "metadata": {},
   "outputs": [
    {
     "data": {
      "text/html": [
       "<div>\n",
       "<style scoped>\n",
       "    .dataframe tbody tr th:only-of-type {\n",
       "        vertical-align: middle;\n",
       "    }\n",
       "\n",
       "    .dataframe tbody tr th {\n",
       "        vertical-align: top;\n",
       "    }\n",
       "\n",
       "    .dataframe thead th {\n",
       "        text-align: right;\n",
       "    }\n",
       "</style>\n",
       "<table border=\"1\" class=\"dataframe\">\n",
       "  <thead>\n",
       "    <tr style=\"text-align: right;\">\n",
       "      <th></th>\n",
       "      <th>patient_id</th>\n",
       "      <th>dod</th>\n",
       "      <th>age_at_diagnosis</th>\n",
       "      <th>first_diagnosis_date</th>\n",
       "      <th>last_diagnosis_date</th>\n",
       "      <th>last_test_date</th>\n",
       "    </tr>\n",
       "  </thead>\n",
       "  <tbody>\n",
       "    <tr>\n",
       "      <th>0</th>\n",
       "      <td>0004477e-31f7-4704-a123-2b68dd64aaed</td>\n",
       "      <td>NaT</td>\n",
       "      <td>59</td>\n",
       "      <td>2019-11-04</td>\n",
       "      <td>2019-11-04</td>\n",
       "      <td>2011-12-03</td>\n",
       "    </tr>\n",
       "    <tr>\n",
       "      <th>1</th>\n",
       "      <td>0022fa14-8260-4b11-88cd-3fa066ede851</td>\n",
       "      <td>NaT</td>\n",
       "      <td>50</td>\n",
       "      <td>1993-04-07</td>\n",
       "      <td>2019-05-20</td>\n",
       "      <td>2004-12-19</td>\n",
       "    </tr>\n",
       "    <tr>\n",
       "      <th>2</th>\n",
       "      <td>0183e236-7892-4aa9-8b7f-10f12676f1ec</td>\n",
       "      <td>2024-07-01</td>\n",
       "      <td>21</td>\n",
       "      <td>1986-06-02</td>\n",
       "      <td>2021-10-13</td>\n",
       "      <td>2023-12-29</td>\n",
       "    </tr>\n",
       "    <tr>\n",
       "      <th>3</th>\n",
       "      <td>019d3689-e49a-4f23-8ca1-65379907230b</td>\n",
       "      <td>2024-07-01</td>\n",
       "      <td>30</td>\n",
       "      <td>1996-10-05</td>\n",
       "      <td>2020-06-13</td>\n",
       "      <td>2018-03-10</td>\n",
       "    </tr>\n",
       "    <tr>\n",
       "      <th>4</th>\n",
       "      <td>01d468fc-55b8-45e3-8eca-dcb7a6185f28</td>\n",
       "      <td>2007-07-30</td>\n",
       "      <td>26</td>\n",
       "      <td>1977-01-16</td>\n",
       "      <td>1981-10-28</td>\n",
       "      <td>1995-12-08</td>\n",
       "    </tr>\n",
       "  </tbody>\n",
       "</table>\n",
       "</div>"
      ],
      "text/plain": [
       "                             patient_id        dod  age_at_diagnosis  \\\n",
       "0  0004477e-31f7-4704-a123-2b68dd64aaed        NaT                59   \n",
       "1  0022fa14-8260-4b11-88cd-3fa066ede851        NaT                50   \n",
       "2  0183e236-7892-4aa9-8b7f-10f12676f1ec 2024-07-01                21   \n",
       "3  019d3689-e49a-4f23-8ca1-65379907230b 2024-07-01                30   \n",
       "4  01d468fc-55b8-45e3-8eca-dcb7a6185f28 2007-07-30                26   \n",
       "\n",
       "  first_diagnosis_date last_diagnosis_date last_test_date  \n",
       "0           2019-11-04          2019-11-04     2011-12-03  \n",
       "1           1993-04-07          2019-05-20     2004-12-19  \n",
       "2           1986-06-02          2021-10-13     2023-12-29  \n",
       "3           1996-10-05          2020-06-13     2018-03-10  \n",
       "4           1977-01-16          1981-10-28     1995-12-08  "
      ]
     },
     "execution_count": 36,
     "metadata": {},
     "output_type": "execute_result"
    }
   ],
   "source": [
    "def replace_dod(row):\n",
    "    '''\n",
    "    function to replace dod with NA if dod < diagnosis dates or test dates\n",
    "    Input: row values\n",
    "    Return: modified row value\n",
    "    '''\n",
    "    if (row[\"dod\"] < row[\"first_diagnosis_date\"]) | (row[\"dod\"] < row[\"last_diagnosis_date\"]) | (row[\"dod\"] <  row[\"last_test_date\"]):\n",
    "        row[\"dod\"] = np.nan\n",
    "    \n",
    "    return row[\"dod\"]\n",
    "\n",
    "df_dod_mod[\"dod\"] = df_dod_mod.apply(replace_dod, axis = 1)\n",
    "df_dod_mod.head()"
   ]
  },
  {
   "cell_type": "markdown",
   "metadata": {},
   "source": [
    "**OBSERVATION**: <br>\n",
    "NaT is \"Not a Time\". It is the equivalent of NA for date, time context in pandas\n",
    "\n",
    "**Next Step**: <br>\n",
    "Calculate the last_encounter_date"
   ]
  },
  {
   "cell_type": "markdown",
   "metadata": {},
   "source": [
    "*Calculate last_encounter_date as the maximum of dad, last_diagnosis_date, and last_test_date*"
   ]
  },
  {
   "cell_type": "code",
   "execution_count": 37,
   "metadata": {},
   "outputs": [
    {
     "data": {
      "text/html": [
       "<div>\n",
       "<style scoped>\n",
       "    .dataframe tbody tr th:only-of-type {\n",
       "        vertical-align: middle;\n",
       "    }\n",
       "\n",
       "    .dataframe tbody tr th {\n",
       "        vertical-align: top;\n",
       "    }\n",
       "\n",
       "    .dataframe thead th {\n",
       "        text-align: right;\n",
       "    }\n",
       "</style>\n",
       "<table border=\"1\" class=\"dataframe\">\n",
       "  <thead>\n",
       "    <tr style=\"text-align: right;\">\n",
       "      <th></th>\n",
       "      <th>patient_id</th>\n",
       "      <th>dod</th>\n",
       "      <th>age_at_diagnosis</th>\n",
       "      <th>first_diagnosis_date</th>\n",
       "      <th>last_diagnosis_date</th>\n",
       "      <th>last_test_date</th>\n",
       "      <th>last_encounter_date</th>\n",
       "    </tr>\n",
       "  </thead>\n",
       "  <tbody>\n",
       "    <tr>\n",
       "      <th>0</th>\n",
       "      <td>0004477e-31f7-4704-a123-2b68dd64aaed</td>\n",
       "      <td>NaT</td>\n",
       "      <td>59</td>\n",
       "      <td>2019-11-04</td>\n",
       "      <td>2019-11-04</td>\n",
       "      <td>2011-12-03</td>\n",
       "      <td>2019-11-04</td>\n",
       "    </tr>\n",
       "    <tr>\n",
       "      <th>1</th>\n",
       "      <td>0022fa14-8260-4b11-88cd-3fa066ede851</td>\n",
       "      <td>NaT</td>\n",
       "      <td>50</td>\n",
       "      <td>1993-04-07</td>\n",
       "      <td>2019-05-20</td>\n",
       "      <td>2004-12-19</td>\n",
       "      <td>2019-05-20</td>\n",
       "    </tr>\n",
       "    <tr>\n",
       "      <th>2</th>\n",
       "      <td>0183e236-7892-4aa9-8b7f-10f12676f1ec</td>\n",
       "      <td>2024-07-01</td>\n",
       "      <td>21</td>\n",
       "      <td>1986-06-02</td>\n",
       "      <td>2021-10-13</td>\n",
       "      <td>2023-12-29</td>\n",
       "      <td>2024-07-01</td>\n",
       "    </tr>\n",
       "    <tr>\n",
       "      <th>3</th>\n",
       "      <td>019d3689-e49a-4f23-8ca1-65379907230b</td>\n",
       "      <td>2024-07-01</td>\n",
       "      <td>30</td>\n",
       "      <td>1996-10-05</td>\n",
       "      <td>2020-06-13</td>\n",
       "      <td>2018-03-10</td>\n",
       "      <td>2024-07-01</td>\n",
       "    </tr>\n",
       "    <tr>\n",
       "      <th>4</th>\n",
       "      <td>01d468fc-55b8-45e3-8eca-dcb7a6185f28</td>\n",
       "      <td>2007-07-30</td>\n",
       "      <td>26</td>\n",
       "      <td>1977-01-16</td>\n",
       "      <td>1981-10-28</td>\n",
       "      <td>1995-12-08</td>\n",
       "      <td>2007-07-30</td>\n",
       "    </tr>\n",
       "  </tbody>\n",
       "</table>\n",
       "</div>"
      ],
      "text/plain": [
       "                             patient_id        dod  age_at_diagnosis  \\\n",
       "0  0004477e-31f7-4704-a123-2b68dd64aaed        NaT                59   \n",
       "1  0022fa14-8260-4b11-88cd-3fa066ede851        NaT                50   \n",
       "2  0183e236-7892-4aa9-8b7f-10f12676f1ec 2024-07-01                21   \n",
       "3  019d3689-e49a-4f23-8ca1-65379907230b 2024-07-01                30   \n",
       "4  01d468fc-55b8-45e3-8eca-dcb7a6185f28 2007-07-30                26   \n",
       "\n",
       "  first_diagnosis_date last_diagnosis_date last_test_date last_encounter_date  \n",
       "0           2019-11-04          2019-11-04     2011-12-03          2019-11-04  \n",
       "1           1993-04-07          2019-05-20     2004-12-19          2019-05-20  \n",
       "2           1986-06-02          2021-10-13     2023-12-29          2024-07-01  \n",
       "3           1996-10-05          2020-06-13     2018-03-10          2024-07-01  \n",
       "4           1977-01-16          1981-10-28     1995-12-08          2007-07-30  "
      ]
     },
     "execution_count": 37,
     "metadata": {},
     "output_type": "execute_result"
    }
   ],
   "source": [
    "df_dod_mod[\"last_encounter_date\"] = np.max(df_dod_mod[[\"last_diagnosis_date\", \"last_test_date\", \"dod\"]], axis = 1)\n",
    "\n",
    "df_dod_mod.head()"
   ]
  },
  {
   "cell_type": "markdown",
   "metadata": {},
   "source": [
    "*Calculate the follow-up, which is the difference between last-encounter data and the first-diagnosis date in years"
   ]
  },
  {
   "cell_type": "code",
   "execution_count": 38,
   "metadata": {},
   "outputs": [
    {
     "data": {
      "text/html": [
       "<div>\n",
       "<style scoped>\n",
       "    .dataframe tbody tr th:only-of-type {\n",
       "        vertical-align: middle;\n",
       "    }\n",
       "\n",
       "    .dataframe tbody tr th {\n",
       "        vertical-align: top;\n",
       "    }\n",
       "\n",
       "    .dataframe thead th {\n",
       "        text-align: right;\n",
       "    }\n",
       "</style>\n",
       "<table border=\"1\" class=\"dataframe\">\n",
       "  <thead>\n",
       "    <tr style=\"text-align: right;\">\n",
       "      <th></th>\n",
       "      <th>patient_id</th>\n",
       "      <th>dod</th>\n",
       "      <th>age_at_diagnosis</th>\n",
       "      <th>first_diagnosis_date</th>\n",
       "      <th>last_diagnosis_date</th>\n",
       "      <th>last_test_date</th>\n",
       "      <th>last_encounter_date</th>\n",
       "      <th>follow_up_time</th>\n",
       "    </tr>\n",
       "  </thead>\n",
       "  <tbody>\n",
       "    <tr>\n",
       "      <th>0</th>\n",
       "      <td>0004477e-31f7-4704-a123-2b68dd64aaed</td>\n",
       "      <td>NaT</td>\n",
       "      <td>59</td>\n",
       "      <td>2019-11-04</td>\n",
       "      <td>2019-11-04</td>\n",
       "      <td>2011-12-03</td>\n",
       "      <td>2019-11-04</td>\n",
       "      <td>0.0</td>\n",
       "    </tr>\n",
       "    <tr>\n",
       "      <th>1</th>\n",
       "      <td>0022fa14-8260-4b11-88cd-3fa066ede851</td>\n",
       "      <td>NaT</td>\n",
       "      <td>50</td>\n",
       "      <td>1993-04-07</td>\n",
       "      <td>2019-05-20</td>\n",
       "      <td>2004-12-19</td>\n",
       "      <td>2019-05-20</td>\n",
       "      <td>26.1</td>\n",
       "    </tr>\n",
       "    <tr>\n",
       "      <th>2</th>\n",
       "      <td>0183e236-7892-4aa9-8b7f-10f12676f1ec</td>\n",
       "      <td>2024-07-01</td>\n",
       "      <td>21</td>\n",
       "      <td>1986-06-02</td>\n",
       "      <td>2021-10-13</td>\n",
       "      <td>2023-12-29</td>\n",
       "      <td>2024-07-01</td>\n",
       "      <td>38.1</td>\n",
       "    </tr>\n",
       "    <tr>\n",
       "      <th>3</th>\n",
       "      <td>019d3689-e49a-4f23-8ca1-65379907230b</td>\n",
       "      <td>2024-07-01</td>\n",
       "      <td>30</td>\n",
       "      <td>1996-10-05</td>\n",
       "      <td>2020-06-13</td>\n",
       "      <td>2018-03-10</td>\n",
       "      <td>2024-07-01</td>\n",
       "      <td>27.7</td>\n",
       "    </tr>\n",
       "    <tr>\n",
       "      <th>4</th>\n",
       "      <td>01d468fc-55b8-45e3-8eca-dcb7a6185f28</td>\n",
       "      <td>2007-07-30</td>\n",
       "      <td>26</td>\n",
       "      <td>1977-01-16</td>\n",
       "      <td>1981-10-28</td>\n",
       "      <td>1995-12-08</td>\n",
       "      <td>2007-07-30</td>\n",
       "      <td>30.5</td>\n",
       "    </tr>\n",
       "  </tbody>\n",
       "</table>\n",
       "</div>"
      ],
      "text/plain": [
       "                             patient_id        dod  age_at_diagnosis  \\\n",
       "0  0004477e-31f7-4704-a123-2b68dd64aaed        NaT                59   \n",
       "1  0022fa14-8260-4b11-88cd-3fa066ede851        NaT                50   \n",
       "2  0183e236-7892-4aa9-8b7f-10f12676f1ec 2024-07-01                21   \n",
       "3  019d3689-e49a-4f23-8ca1-65379907230b 2024-07-01                30   \n",
       "4  01d468fc-55b8-45e3-8eca-dcb7a6185f28 2007-07-30                26   \n",
       "\n",
       "  first_diagnosis_date last_diagnosis_date last_test_date last_encounter_date  \\\n",
       "0           2019-11-04          2019-11-04     2011-12-03          2019-11-04   \n",
       "1           1993-04-07          2019-05-20     2004-12-19          2019-05-20   \n",
       "2           1986-06-02          2021-10-13     2023-12-29          2024-07-01   \n",
       "3           1996-10-05          2020-06-13     2018-03-10          2024-07-01   \n",
       "4           1977-01-16          1981-10-28     1995-12-08          2007-07-30   \n",
       "\n",
       "   follow_up_time  \n",
       "0             0.0  \n",
       "1            26.1  \n",
       "2            38.1  \n",
       "3            27.7  \n",
       "4            30.5  "
      ]
     },
     "execution_count": 38,
     "metadata": {},
     "output_type": "execute_result"
    }
   ],
   "source": [
    "# calculate follow-up_time in days, convert to years by dividing it by 365.25, and round the output to have 1 decimal place\n",
    "df_dod_mod[\"follow_up_time\"] = ((df_dod_mod[\"last_encounter_date\"] - df_dod_mod[\"first_diagnosis_date\"]).dt.days/365.25).round(1)\n",
    "\n",
    "df_dod_mod.head()"
   ]
  },
  {
   "cell_type": "markdown",
   "metadata": {},
   "source": [
    "**OBSERVATION**: <br>\n",
    "Some patients have a follow-up time of 0 since they had only one encounter in the database <br>\n",
    "\n",
    "**NEXT STEPS**: <br>\n",
    "1. Sanity check for number of patients with DOD lower than first diagnosis <br>\n",
    "2. Sanity check for number of patients with DOD lower than last_diagnosis and test_dates <br>\n",
    "3. Calculate the proportion of patients where follow-up time is 0\n"
   ]
  },
  {
   "cell_type": "code",
   "execution_count": 39,
   "metadata": {},
   "outputs": [
    {
     "name": "stdout",
     "output_type": "stream",
     "text": [
      "Number of patients with DOD < first diagnosis: 0\n",
      "Number of patients with DOD < last_diagnosis and test_dates: 0\n"
     ]
    }
   ],
   "source": [
    "print(f\"Number of patients with DOD < first diagnosis: {(df_dod_mod['dod'] < df_dod_mod['first_diagnosis_date']).sum()}\")\n",
    "\n",
    "print(f\"\"\"Number of patients with DOD < last_diagnosis and test_dates: {((df_dod_mod['dod'] < df_dod_mod['last_diagnosis_date'])\n",
    "                                                                       |(df_dod_mod['dod'] < df_dod_mod['last_test_date']))\n",
    "                                                                       .sum()}\"\"\")"
   ]
  },
  {
   "cell_type": "code",
   "execution_count": 40,
   "metadata": {},
   "outputs": [
    {
     "data": {
      "text/plain": [
       "patient_id                0\n",
       "dod                     656\n",
       "age_at_diagnosis          0\n",
       "first_diagnosis_date      0\n",
       "last_diagnosis_date       0\n",
       "last_test_date            0\n",
       "last_encounter_date       0\n",
       "follow_up_time            0\n",
       "dtype: int64"
      ]
     },
     "execution_count": 40,
     "metadata": {},
     "output_type": "execute_result"
    }
   ],
   "source": [
    "# Calculate number of empty row-values in each column\n",
    "df_dod_mod.isna().sum()"
   ]
  },
  {
   "cell_type": "code",
   "execution_count": 41,
   "metadata": {},
   "outputs": [
    {
     "name": "stdout",
     "output_type": "stream",
     "text": [
      "fraction of patients with 0 follow_up time:  0.06%\n"
     ]
    },
    {
     "data": {
      "text/html": [
       "<div>\n",
       "<style scoped>\n",
       "    .dataframe tbody tr th:only-of-type {\n",
       "        vertical-align: middle;\n",
       "    }\n",
       "\n",
       "    .dataframe tbody tr th {\n",
       "        vertical-align: top;\n",
       "    }\n",
       "\n",
       "    .dataframe thead th {\n",
       "        text-align: right;\n",
       "    }\n",
       "</style>\n",
       "<table border=\"1\" class=\"dataframe\">\n",
       "  <thead>\n",
       "    <tr style=\"text-align: right;\">\n",
       "      <th></th>\n",
       "      <th>patient_id</th>\n",
       "      <th>dod</th>\n",
       "      <th>age_at_diagnosis</th>\n",
       "      <th>first_diagnosis_date</th>\n",
       "      <th>last_diagnosis_date</th>\n",
       "      <th>last_test_date</th>\n",
       "      <th>last_encounter_date</th>\n",
       "      <th>follow_up_time</th>\n",
       "    </tr>\n",
       "  </thead>\n",
       "  <tbody>\n",
       "    <tr>\n",
       "      <th>0</th>\n",
       "      <td>0004477e-31f7-4704-a123-2b68dd64aaed</td>\n",
       "      <td>NaT</td>\n",
       "      <td>59</td>\n",
       "      <td>2019-11-04</td>\n",
       "      <td>2019-11-04</td>\n",
       "      <td>2011-12-03</td>\n",
       "      <td>2019-11-04</td>\n",
       "      <td>0.0</td>\n",
       "    </tr>\n",
       "    <tr>\n",
       "      <th>36</th>\n",
       "      <td>0b6096c4-9ffd-4a69-8257-3f94cf82fa45</td>\n",
       "      <td>NaT</td>\n",
       "      <td>56</td>\n",
       "      <td>1987-05-20</td>\n",
       "      <td>1987-05-20</td>\n",
       "      <td>1974-11-22</td>\n",
       "      <td>1987-05-20</td>\n",
       "      <td>0.0</td>\n",
       "    </tr>\n",
       "    <tr>\n",
       "      <th>71</th>\n",
       "      <td>15591b85-3176-4982-8a31-68684b140b31</td>\n",
       "      <td>NaT</td>\n",
       "      <td>76</td>\n",
       "      <td>2010-04-16</td>\n",
       "      <td>2010-04-16</td>\n",
       "      <td>1966-01-15</td>\n",
       "      <td>2010-04-16</td>\n",
       "      <td>0.0</td>\n",
       "    </tr>\n",
       "    <tr>\n",
       "      <th>81</th>\n",
       "      <td>188c9c32-5f88-4936-952f-358ad36d9cd6</td>\n",
       "      <td>NaT</td>\n",
       "      <td>70</td>\n",
       "      <td>2019-05-09</td>\n",
       "      <td>2019-05-09</td>\n",
       "      <td>2000-04-02</td>\n",
       "      <td>2019-05-09</td>\n",
       "      <td>0.0</td>\n",
       "    </tr>\n",
       "    <tr>\n",
       "      <th>114</th>\n",
       "      <td>2076ea86-235b-4639-9774-3c5c45d78942</td>\n",
       "      <td>NaT</td>\n",
       "      <td>61</td>\n",
       "      <td>1994-09-05</td>\n",
       "      <td>1994-09-05</td>\n",
       "      <td>1993-09-05</td>\n",
       "      <td>1994-09-05</td>\n",
       "      <td>0.0</td>\n",
       "    </tr>\n",
       "  </tbody>\n",
       "</table>\n",
       "</div>"
      ],
      "text/plain": [
       "                               patient_id dod  age_at_diagnosis  \\\n",
       "0    0004477e-31f7-4704-a123-2b68dd64aaed NaT                59   \n",
       "36   0b6096c4-9ffd-4a69-8257-3f94cf82fa45 NaT                56   \n",
       "71   15591b85-3176-4982-8a31-68684b140b31 NaT                76   \n",
       "81   188c9c32-5f88-4936-952f-358ad36d9cd6 NaT                70   \n",
       "114  2076ea86-235b-4639-9774-3c5c45d78942 NaT                61   \n",
       "\n",
       "    first_diagnosis_date last_diagnosis_date last_test_date  \\\n",
       "0             2019-11-04          2019-11-04     2011-12-03   \n",
       "36            1987-05-20          1987-05-20     1974-11-22   \n",
       "71            2010-04-16          2010-04-16     1966-01-15   \n",
       "81            2019-05-09          2019-05-09     2000-04-02   \n",
       "114           1994-09-05          1994-09-05     1993-09-05   \n",
       "\n",
       "    last_encounter_date  follow_up_time  \n",
       "0            2019-11-04             0.0  \n",
       "36           1987-05-20             0.0  \n",
       "71           2010-04-16             0.0  \n",
       "81           2019-05-09             0.0  \n",
       "114          1994-09-05             0.0  "
      ]
     },
     "execution_count": 41,
     "metadata": {},
     "output_type": "execute_result"
    }
   ],
   "source": [
    "print(f\"fraction of patients with 0 follow_up time: {(df_dod_mod['follow_up_time']==0).mean(): 0.2f}%\")\n",
    "df_dod_mod[df_dod_mod[\"follow_up_time\"]==0].head()"
   ]
  },
  {
   "cell_type": "markdown",
   "metadata": {},
   "source": [
    "**OBSERVATIONS:** <br>"
   ]
  },
  {
   "cell_type": "code",
   "execution_count": 42,
   "metadata": {},
   "outputs": [],
   "source": [
    "df_final = df_dod_mod[df_dod_mod[\"follow_up_time\"]!=0].copy()"
   ]
  },
  {
   "cell_type": "code",
   "execution_count": 43,
   "metadata": {},
   "outputs": [
    {
     "data": {
      "text/html": [
       "<div>\n",
       "<style scoped>\n",
       "    .dataframe tbody tr th:only-of-type {\n",
       "        vertical-align: middle;\n",
       "    }\n",
       "\n",
       "    .dataframe tbody tr th {\n",
       "        vertical-align: top;\n",
       "    }\n",
       "\n",
       "    .dataframe thead th {\n",
       "        text-align: right;\n",
       "    }\n",
       "</style>\n",
       "<table border=\"1\" class=\"dataframe\">\n",
       "  <thead>\n",
       "    <tr style=\"text-align: right;\">\n",
       "      <th></th>\n",
       "      <th>age_at_diagnosis</th>\n",
       "      <th>follow_up_time</th>\n",
       "    </tr>\n",
       "  </thead>\n",
       "  <tbody>\n",
       "    <tr>\n",
       "      <th>count</th>\n",
       "      <td>889.000000</td>\n",
       "      <td>889.000000</td>\n",
       "    </tr>\n",
       "    <tr>\n",
       "      <th>mean</th>\n",
       "      <td>35.451069</td>\n",
       "      <td>31.720022</td>\n",
       "    </tr>\n",
       "    <tr>\n",
       "      <th>std</th>\n",
       "      <td>13.596176</td>\n",
       "      <td>14.676355</td>\n",
       "    </tr>\n",
       "    <tr>\n",
       "      <th>min</th>\n",
       "      <td>19.000000</td>\n",
       "      <td>0.200000</td>\n",
       "    </tr>\n",
       "    <tr>\n",
       "      <th>25%</th>\n",
       "      <td>25.000000</td>\n",
       "      <td>22.300000</td>\n",
       "    </tr>\n",
       "    <tr>\n",
       "      <th>50%</th>\n",
       "      <td>32.000000</td>\n",
       "      <td>31.900000</td>\n",
       "    </tr>\n",
       "    <tr>\n",
       "      <th>75%</th>\n",
       "      <td>43.000000</td>\n",
       "      <td>41.200000</td>\n",
       "    </tr>\n",
       "    <tr>\n",
       "      <th>max</th>\n",
       "      <td>84.000000</td>\n",
       "      <td>73.700000</td>\n",
       "    </tr>\n",
       "  </tbody>\n",
       "</table>\n",
       "</div>"
      ],
      "text/plain": [
       "       age_at_diagnosis  follow_up_time\n",
       "count        889.000000      889.000000\n",
       "mean          35.451069       31.720022\n",
       "std           13.596176       14.676355\n",
       "min           19.000000        0.200000\n",
       "25%           25.000000       22.300000\n",
       "50%           32.000000       31.900000\n",
       "75%           43.000000       41.200000\n",
       "max           84.000000       73.700000"
      ]
     },
     "execution_count": 43,
     "metadata": {},
     "output_type": "execute_result"
    }
   ],
   "source": [
    "#Calculate the summary statistics of age_at_diagnosis and follow_up_time\n",
    "df_final[[\"age_at_diagnosis\", \"follow_up_time\"]].describe()"
   ]
  },
  {
   "cell_type": "code",
   "execution_count": 44,
   "metadata": {},
   "outputs": [
    {
     "data": {
      "text/plain": [
       "84"
      ]
     },
     "execution_count": 44,
     "metadata": {},
     "output_type": "execute_result"
    }
   ],
   "source": [
    "df_final[\"age_at_diagnosis\"].max()"
   ]
  },
  {
   "cell_type": "code",
   "execution_count": 45,
   "metadata": {},
   "outputs": [
    {
     "data": {
      "image/png": "[encoded data removed]",
      "text/plain": [
       "<Figure size 1000x500 with 2 Axes>"
      ]
     },
     "metadata": {},
     "output_type": "display_data"
    }
   ],
   "source": [
    "#Plot the distribution of follow_up_time and age_at_diagnosis\n",
    "fig, axes = plt.subplots(1,2, figsize = (10,5))\n",
    "dataframe = df_final\n",
    "\n",
    "# kernel-density estimation plot for follow_up_time\n",
    "x_follow_up_max = dataframe[\"follow_up_time\"].max()\n",
    "x_follow_up_min = dataframe[\"follow_up_time\"].min()\n",
    "p1 = sns.kdeplot(\n",
    "    dataframe,\n",
    "    x = \"follow_up_time\",\n",
    "    fill = True,\n",
    "    color = \"c\",\n",
    "    clip = (x_follow_up_min,x_follow_up_max), # to remove artifacts of kernel-density estimation\n",
    "    ax = axes[0]\n",
    "\n",
    ")\n",
    "\n",
    "# Kernel-density estimation plot for age_at_diagnosis\n",
    "x_age_diagnosis_max = dataframe[\"age_at_diagnosis\"].max()\n",
    "x_age_diagnosis_min = dataframe[\"age_at_diagnosis\"].min()\n",
    "p2 = sns.kdeplot(\n",
    "    dataframe,\n",
    "    x = \"age_at_diagnosis\",\n",
    "    fill = True,\n",
    "    color = \"c\",\n",
    "    clip = (x_age_diagnosis_min,x_age_diagnosis_max), # to remove artifacts of kernel-density estimations\n",
    "    ax = axes[1]\n",
    ")\n",
    "\n",
    "# define x-axis labels\n",
    "axes[0].set_xlabel(\"Follow-up time (years)\")\n",
    "axes[1].set_xlabel(\"Age at diagnosis (years)\")\n",
    "axes[0].set_xlim([0, 75])\n",
    "axes[1].set_xlim([10, 85])\n",
    "\n",
    "def summary_stats(x, ax):\n",
    "    '''\n",
    "        function to plot mean, median, and 2.5% and  97.5% quantile as vertical lines\n",
    "        Input: ax = axes\n",
    "               x = column name\n",
    "        \n",
    "        Return: nothing. plots vertical lines \n",
    "    '''\n",
    "    # calculate summary statistics: mean, median, and interquantile range\n",
    "    mu_x, med_x = dataframe[x].mean(), dataframe[x].median()\n",
    "    alpha_x, oneminusalpha_x = dataframe[x].quantile(q = [0.025, 0.975])\n",
    "    \n",
    "    # calculate y-axis text label position\n",
    "    y_limit_plot = ax.get_ylim()\n",
    "    y_pos = np.mean(y_limit_plot)\n",
    "\n",
    "    # plot mean and its text label\n",
    "    ax.axvline(mu_x, lw = 1, color = \"dimgray\")\n",
    "    ax.text(mu_x*1.05, y_pos, \n",
    "            f\"$\\mu$ = {np.round(mu_x,0):0.0f}\", \n",
    "            horizontalalignment = \"left\", \n",
    "            rotation = \"vertical\", \n",
    "            color = \"dimgray\")\n",
    "    \n",
    "    # plot median and its label\n",
    "    ax.axvline(med_x, lw = 1, color = \"m\")\n",
    "    ax.text(med_x*0.99, y_pos, \n",
    "            f\"$q_{{50}}$ = {np.round(med_x,0):0.0f}\", \n",
    "            horizontalalignment = \"right\", \n",
    "            rotation = \"vertical\", \n",
    "            color = \"m\")\n",
    "    \n",
    "    # plot 2.5% quantile and its text label\n",
    "    ax.axvline(alpha_x, lw = 1, ls = '--', color = \"m\")\n",
    "    ax.text(alpha_x*0.99, y_pos, \n",
    "            f\"$q_{{5}}$ = {np.round(alpha_x,0):0.0f}\", \n",
    "            horizontalalignment = \"right\", \n",
    "            rotation = \"vertical\", \n",
    "            color = \"m\")\n",
    "    \n",
    "    # plot 97.5% quantile and its text label\n",
    "    ax.axvline(oneminusalpha_x, lw = 1, ls = \"--\", color = \"m\")\n",
    "    ax.text(oneminusalpha_x*1.02, y_pos, \n",
    "            f\"$q_{{95}}$ = {np.round(oneminusalpha_x,0):0.0f}\", \n",
    "            horizontalalignment = \"left\", \n",
    "            rotation = \"vertical\", \n",
    "            color = \"m\")\n",
    "\n",
    "# summary vertical lines for mean, median, and 2.5% and 97.5% quantiles\n",
    "summary_stats(\"follow_up_time\", axes[0])\n",
    "summary_stats(\"age_at_diagnosis\", axes[1])\n",
    "\n",
    "# increase padding between figures\n",
    "fig.tight_layout(pad = 2)\n",
    "\n",
    "# Remove the outerframe of each plot\n",
    "frame_off(axes[0])\n",
    "frame_off(axes[1])\n",
    "\n",
    "plt.show()"
   ]
  },
  {
   "cell_type": "markdown",
   "metadata": {},
   "source": [
    "**OBSERVATION**: <br> \n",
    "1. Follow-up time follows an almost symmetric distribution (mean = median). This is after removing patients whose follow-up time is 0. When patients with follow-up time of 0 were included there was a smaller peak at x = 0.\n",
    "2. Age at diagnosis has a right-skewed distribution. "
   ]
  },
  {
   "cell_type": "code",
   "execution_count": 46,
   "metadata": {},
   "outputs": [
    {
     "data": {
      "image/png": "[encoded data removed]",
      "text/plain": [
       "<Figure size 500x500 with 1 Axes>"
      ]
     },
     "metadata": {},
     "output_type": "display_data"
    }
   ],
   "source": [
    "# Plotting distribution of age_at_diagnosis and follow_up_time\n",
    "sns.displot(df_dod_mod, \n",
    "            x = \"age_at_diagnosis\", \n",
    "            y = \"follow_up_time\", \n",
    "            kind = \"kde\", \n",
    "            color = \"gray\")\n",
    "\n",
    "# set axis labels\n",
    "plt.xlabel(\"Age at diagnosis (years)\")\n",
    "plt.ylabel(\"Follow-up time (years)\")\n",
    "\n",
    "plt.box(False)\n",
    "plt.show()"
   ]
  },
  {
   "cell_type": "markdown",
   "metadata": {},
   "source": [
    "**OBSERVATIONS**: <br>\n",
    "- As age at diagnosis increases, the follow-up time decreases "
   ]
  },
  {
   "cell_type": "code",
   "execution_count": 47,
   "metadata": {},
   "outputs": [],
   "source": [
    "# close the connection to the database\n",
    "con.close()"
   ]
  },
  {
   "cell_type": "markdown",
   "metadata": {},
   "source": [
    "## HER2 status\n",
    "1. Calculate the intent to test rate for HER2. \n",
    "2. Calculate the tested rate for HER2.\n",
    "3. Calculate the negativity rate for HER2."
   ]
  },
  {
   "cell_type": "code",
   "execution_count": 48,
   "metadata": {},
   "outputs": [],
   "source": [
    "# Connect to the sqlite database\n",
    "con = sqlite3.connect(\"techTest.db\")\n",
    "cur = con.cursor()"
   ]
  },
  {
   "cell_type": "code",
   "execution_count": 49,
   "metadata": {},
   "outputs": [
    {
     "name": "stdout",
     "output_type": "stream",
     "text": [
      "941\n"
     ]
    }
   ],
   "source": [
    "sql_bc = '''--sql\n",
    "            SELECT\n",
    "                COUNT(DISTINCT p.patient_id)\n",
    "            FROM \n",
    "                patient as p\n",
    "            LEFT JOIN\n",
    "                diagnosis as d\n",
    "                    ON p.patient_id = d.patient_id\n",
    "            WHERE\n",
    "                d.diagnosis_code LIKE \"C50%\"\n",
    "            \n",
    "\n",
    "'''\n",
    "cur.execute(sql_bc)\n",
    "num_patient_BC = cur.fetchone()[0]\n",
    "print(num_patient_BC)"
   ]
  },
  {
   "cell_type": "markdown",
   "metadata": {},
   "source": [
    "### Intent to Test Rate\n",
    "\n",
    "This is the percentage of patients who have an encounter in the biomarker table for the relevant biomarker.\n",
    "This problem was split into three steps:\n",
    "1. Subquery1: calculate the number of patients with BC status\n",
    "2. Subquery2: calculate the number of patients with BC status and HER2\n",
    "3. Divide the output (*1.0) from two subqueries to get floating point result"
   ]
  },
  {
   "cell_type": "code",
   "execution_count": 50,
   "metadata": {},
   "outputs": [
    {
     "name": "stdout",
     "output_type": "stream",
     "text": [
      "Intent to test rate is 81.30%\n"
     ]
    }
   ],
   "source": [
    "sql_query = '''--sql\n",
    "            SELECT \n",
    "            ---sub-query1 to calculate number of distinct patients who have BC status and HER2 biomarker---\n",
    "                (\n",
    "                SELECT \n",
    "                    COUNT(DISTINCT p1.patient_id)\n",
    "\n",
    "                FROM \n",
    "                    patient  as p1\n",
    "                LEFT JOIN \n",
    "                    diagnosis  as d1 \n",
    "                        ON p1.patient_id = d1.patient_id\n",
    "                LEFT JOIN \n",
    "                    biomarker b1 \n",
    "                        ON p1.patient_id = b1.patient_id\n",
    "                \n",
    "                WHERE \n",
    "                    d1.diagnosis_code LIKE \"C50%\" \n",
    "                    AND \n",
    "                    b1.biomarker_name = \"HER2\"\n",
    "                    ) * 1.0 / \n",
    "                \n",
    "            ---sub-query2 to calculate number of distinct patients who have BC status\n",
    "                (\n",
    "                SELECT \n",
    "                    COUNT(DISTINCT p2.patient_id)\n",
    "\n",
    "                FROM \n",
    "                    patient as p2\n",
    "                LEFT JOIN \n",
    "                    diagnosis as d2 \n",
    "                        ON p2.patient_id = d2.patient_id\n",
    "                \n",
    "                WHERE \n",
    "                    d2.diagnosis_code LIKE \"C50%\"\n",
    "                    ) AS fraction;\n",
    "        '''\n",
    "cur.execute(sql_query)\n",
    "intent_to_test_rate = cur.fetchone()[0]\n",
    "\n",
    "print(f\"Intent to test rate is {100*intent_to_test_rate :0.2f}%\")"
   ]
  },
  {
   "cell_type": "markdown",
   "metadata": {},
   "source": [
    "### Tested Rate\n",
    "The percentage of patients who have an encounter in the biomarker table for the relevant biomarker with a valid test result"
   ]
  },
  {
   "cell_type": "code",
   "execution_count": 51,
   "metadata": {},
   "outputs": [
    {
     "name": "stdout",
     "output_type": "stream",
     "text": [
      "Test rate is 55.26%\n"
     ]
    }
   ],
   "source": [
    "sql_query = '''--sql\n",
    "            SELECT \n",
    "            ---sub-query1 to calculate number of distinct patients who have BC status, HER2 biomarker, and either Positive or Negative test---\n",
    "                (\n",
    "                SELECT \n",
    "                    COUNT(DISTINCT p1.patient_id)\n",
    "                \n",
    "                FROM \n",
    "                    patient  as p1\n",
    "                LEFT JOIN \n",
    "                    diagnosis  as d1 \n",
    "                        ON p1.patient_id = d1.patient_id\n",
    "                LEFT JOIN \n",
    "                    biomarker b1 \n",
    "                        ON p1.patient_id = b1.patient_id\n",
    "\n",
    "                WHERE \n",
    "                    d1.diagnosis_code LIKE \"C50%\" ---BC status---\n",
    "                    AND \n",
    "                    b1.biomarker_name = \"HER2\" ---biomarker HER2---\n",
    "                    AND \n",
    "                    b1.test_result in (\"Positive\", \"Negative\") ---Valid test result---\n",
    "                    ) * 1.0 / \n",
    "                \n",
    "            ---sub-query2 to calculate number of distinct patients who have BC status\n",
    "                (\n",
    "                SELECT \n",
    "                    COUNT(DISTINCT p2.patient_id)\n",
    "\n",
    "                FROM \n",
    "                    patient as p2\n",
    "                LEFT JOIN \n",
    "                    diagnosis as d2 \n",
    "                        ON p2.patient_id = d2.patient_id\n",
    "                \n",
    "                WHERE \n",
    "                    d2.diagnosis_code LIKE \"C50%\" ---BC status---\n",
    "                    ) AS fraction;\n",
    "        '''\n",
    "cur.execute(sql_query)\n",
    "test_rate = cur.fetchone()[0]\n",
    "\n",
    "print(f\"Test rate is {100*test_rate :0.2f}%\")"
   ]
  },
  {
   "cell_type": "markdown",
   "metadata": {},
   "source": [
    "### Negativity Rate\n",
    "\n",
    "The percentage of patients who have an encounter in the biomarker table for the relevant biomarker with a negative result."
   ]
  },
  {
   "cell_type": "code",
   "execution_count": 52,
   "metadata": {},
   "outputs": [
    {
     "name": "stdout",
     "output_type": "stream",
     "text": [
      "Negative rate is 34.86%\n"
     ]
    }
   ],
   "source": [
    "sql_query = '''--sql\n",
    "            SELECT \n",
    "            ---sub-query1 to calculate number of distinct patients who have BC status, HER2 biomarker, and Negative---\n",
    "                (\n",
    "                SELECT \n",
    "                    COUNT(DISTINCT p1.patient_id)\n",
    "\n",
    "                FROM \n",
    "                    patient  as p1\n",
    "                LEFT JOIN \n",
    "                    diagnosis  as d1 \n",
    "                        ON p1.patient_id = d1.patient_id\n",
    "                LEFT JOIN \n",
    "                    biomarker b1 \n",
    "                        ON p1.patient_id = b1.patient_id\n",
    "                \n",
    "                WHERE \n",
    "                    d1.diagnosis_code LIKE \"C50%\" ---BC status---\n",
    "                    AND \n",
    "                    b1.biomarker_name = 'HER2' ---HER2 biomarker---\n",
    "                    AND \n",
    "                    b1.test_result == \"Negative\" ---Negative test result---\n",
    "                    ) * 1.0 / \n",
    "                \n",
    "            ---sub-query2 to calculate number of distinct patients who have BC status\n",
    "                (\n",
    "                SELECT \n",
    "                    COUNT(DISTINCT p2.patient_id)\n",
    "\n",
    "                FROM \n",
    "                    patient as p2\n",
    "                LEFT JOIN \n",
    "                    diagnosis as d2 \n",
    "                        ON p2.patient_id = d2.patient_id\n",
    "\n",
    "                WHERE \n",
    "                    d2.diagnosis_code LIKE \"C50%\" ---BC status---\n",
    "                    ) AS fraction;\n",
    "        '''\n",
    "cur.execute(sql_query)\n",
    "negative_rate = cur.fetchone()[0]\n",
    "\n",
    "print(f\"Negative rate is {100*negative_rate :0.2f}%\")"
   ]
  },
  {
   "cell_type": "code",
   "execution_count": 53,
   "metadata": {},
   "outputs": [],
   "source": [
    "# Close the connection to the database\n",
    "con.close()"
   ]
  },
  {
   "cell_type": "markdown",
   "metadata": {},
   "source": [
    "## Survival Analysis"
   ]
  },
  {
   "cell_type": "markdown",
   "metadata": {},
   "source": [
    "### Data Exploration"
   ]
  },
  {
   "cell_type": "code",
   "execution_count": 54,
   "metadata": {},
   "outputs": [
    {
     "name": "stdout",
     "output_type": "stream",
     "text": [
      "Proportion of patients with a censored status: 67.9 %\n"
     ]
    }
   ],
   "source": [
    "# For Survival Analysis\n",
    "# Event has occured if, for a patient, date of deat (dod) is known\n",
    "# a patient is censored if the last encounter in the database is either a diagnostic or biomarker test and the data of death is NA\n",
    "df_final[\"status\"] = df_final[\"dod\"].notna().map({\n",
    "                                                    True: \"event\",\n",
    "                                                    False: \"censor\"\n",
    "                                                })\n",
    "print(f\"Proportion of patients with a censored status: {100*df_final['status'].value_counts(normalize = True)['censor']:0.1f} %\")"
   ]
  },
  {
   "cell_type": "code",
   "execution_count": 55,
   "metadata": {},
   "outputs": [
    {
     "data": {
      "text/plain": [
       "patient_id                0\n",
       "dod                     604\n",
       "age_at_diagnosis          0\n",
       "first_diagnosis_date      0\n",
       "last_diagnosis_date       0\n",
       "last_test_date            0\n",
       "last_encounter_date       0\n",
       "follow_up_time            0\n",
       "status                    0\n",
       "dtype: int64"
      ]
     },
     "execution_count": 55,
     "metadata": {},
     "output_type": "execute_result"
    }
   ],
   "source": [
    "# check if follow_up_time is negative\n",
    "assert (df_final[\"follow_up_time\"] < 0).sum() == 0\n",
    "\n",
    "df_final.isna().sum()"
   ]
  },
  {
   "cell_type": "code",
   "execution_count": 56,
   "metadata": {},
   "outputs": [
    {
     "data": {
      "image/png": "[encoded data removed]",
      "text/plain": [
       "<Figure size 1000x600 with 2 Axes>"
      ]
     },
     "metadata": {},
     "output_type": "display_data"
    }
   ],
   "source": [
    "#age (in years) at diagnosis to stratify the patients\n",
    "age_to_stratify = 60\n",
    "mask = df_final[\"age_at_diagnosis\"] > age_to_stratify\n",
    "df_final[\"stratified_age\"] = mask\n",
    "df_final[\"stratified_age\"] = df_final[\"stratified_age\"].map({\n",
    "                                                                True: \"above\",\n",
    "                                                                False: \"below\"\n",
    "                                                            })\n",
    "\n",
    "custom_order = [\"below\", \"above\"]\n",
    "\n",
    "fig, ax = plt.subplots(1,2)\n",
    "k = sns.kdeplot(df_final, \n",
    "            x = \"follow_up_time\", \n",
    "            hue = \"stratified_age\", \n",
    "            hue_order = custom_order,\n",
    "            fill = True, \n",
    "            common_norm = False, \n",
    "            clip = (0,80),\n",
    "            alpha = 0.8,\n",
    "            linewidth = 0,\n",
    "            legend = False,\n",
    "            ax = ax[0])\n",
    "\n",
    "\n",
    "\n",
    "c = sns.countplot(df_final,\n",
    "            x = \"status\",\n",
    "            hue = \"stratified_age\",\n",
    "            hue_order = custom_order,\n",
    "            alpha = 0.9,\n",
    "            ax = ax[1])\n",
    "\n",
    "# label count values on top of each bar\n",
    "for container in ax[1].containers:\n",
    "    ax[1].bar_label(container)\n",
    "\n",
    "\n",
    "ax[1].legend_.remove()\n",
    "ax[0].set_ylim([0, 0.06])\n",
    "ax[1].set_ylim([0, 700])\n",
    "ax[1].set_ylabel(\"Count\")\n",
    "frame_off(ax[0])\n",
    "frame_off(ax[1])\n",
    "fig.legend([f\"above {age_to_stratify}\", f\"below {age_to_stratify}\"], \n",
    "           fontsize = 12, \n",
    "           frameon = False,\n",
    "           loc = \"upper center\",\n",
    "           ncols = len(ax))\n",
    "plt.show()"
   ]
  },
  {
   "cell_type": "markdown",
   "metadata": {},
   "source": [
    "**OBSERVATION**: <br>\n",
    "- Only 6% of the patients who were over 60 at the time of diagnosis\n",
    "- Hence, number of events (death) for patients over 60 is also skewed: ~40 times lower than for patients above 60\n",
    "- This would lead to "
   ]
  },
  {
   "cell_type": "markdown",
   "metadata": {},
   "source": [
    "### Kaplan Meier Plots\n",
    "\n",
    "Kaplan Meier (KM) plots present $S(t) = Pr(T>t)$, where $Pr(T>t)$ is the probability of a patient surviving for time greater than t <br>\n",
    "Here, I plot KM plots using Kaplan-Meier fitter from the lifelines package using follow-up times and status of each patient. <br><br>\n",
    "Status = 1, implying death, if a patient's date of death is the last encounter in the database <br>\n",
    "Status = 0, implying censored, if a patient's date of death is lower than the last encounter\n"
   ]
  },
  {
   "cell_type": "code",
   "execution_count": 57,
   "metadata": {},
   "outputs": [
    {
     "data": {
      "image/png": "[encoded data removed]",
      "text/plain": [
       "<Figure size 1000x600 with 1 Axes>"
      ]
     },
     "metadata": {},
     "output_type": "display_data"
    }
   ],
   "source": [
    "df_final[\"status\"] = df_final[\"status\"].map({\n",
    "                                                \"event\": 1,\n",
    "                                                \"censor\": 0\n",
    "                                            })\n",
    "\n",
    "fig, axes = plt.subplots()\n",
    "\n",
    "# Instantiating the Kaplan-Meier class\n",
    "km_lower = KaplanMeierFitter()\n",
    "km_upper = KaplanMeierFitter()\n",
    "\n",
    "# fitting Kaplan-Meier for patients below the stratify_age\n",
    "km_lowerage = km_lower.fit(df_final.loc[~mask,\"follow_up_time\"], df_final.loc[~mask,\"status\"])\n",
    "km_lowerage.plot(label = f\"below {age_to_stratify}\")\n",
    "\n",
    "# fitting Kaplan-Meier for patient above the stratify_age\n",
    "km_upperage = km_upper.fit(df_final.loc[mask,\"follow_up_time\"], df_final.loc[mask,\"status\"])\n",
    "km_upperage.plot(label = f\"above {age_to_stratify}\", \n",
    "                 xlabel = \"Survival Time (Years)\", \n",
    "                 ylabel = \"Estimated Probability of Survival\")\n",
    "\n",
    "# fixing figure properties\n",
    "plt.legend(fontsize = 12, frameon = False)\n",
    "plt.box(False)\n",
    "plt.title(f\"Kaplan Meier curve for patients stratified by age = {age_to_stratify}\")\n",
    "plt.ylim([0, 1])\n",
    "plt.show()"
   ]
  },
  {
   "cell_type": "markdown",
   "metadata": {},
   "source": [
    "Here, I calculate the median survival times from the output of Kaplan-Meier fitter. <br>\n",
    "Confidence interval around the median survival times were calculated using the median_survival_times method from lifelines.utils package"
   ]
  },
  {
   "cell_type": "code",
   "execution_count": 58,
   "metadata": {},
   "outputs": [
    {
     "name": "stdout",
     "output_type": "stream",
     "text": [
      "Median survival time for patients over 60 years of age is inf (inf, inf)\n",
      "Median survival time for patients below 60 years of age is 50.5 (45.9, 52.5)\n"
     ]
    }
   ],
   "source": [
    "# Calculate median survival times and their confidence intervals (using median survival times package from lifelines)\n",
    "median_upper = km_upperage.median_survival_time_\n",
    "median_ci_upper = median_survival_times(km_upperage.confidence_interval_).to_numpy()[0]\n",
    "median_lower = km_lowerage.median_survival_time_\n",
    "median_ci_lower = median_survival_times(km_lowerage.confidence_interval_).to_numpy()[0]\n",
    "\n",
    "print(f\"Median survival time for patients over {age_to_stratify} years of age is {median_upper} {median_ci_upper[0],median_ci_upper[1]}\")\n",
    "print(f\"Median survival time for patients below {age_to_stratify} years of age is {median_lower} {median_ci_lower[0],median_ci_lower[1]}\")\n"
   ]
  },
  {
   "cell_type": "markdown",
   "metadata": {},
   "source": [
    "**OBSERVATIONs**: <br>"
   ]
  },
  {
   "cell_type": "markdown",
   "metadata": {},
   "source": [
    "- Patients younger than 60 have an overall higher survival time\n",
    "- Patient over 60 have been followed up for very short durations. There are not have enough events hence their survival curves never go below 0.5. This leads to the value of inf for median survival times\n",
    "- The fewer samples for patients with age at diagnosis above 60 also leads to the wider confidence intervals\n",
    "- Since the data was randomly generated, it does not agree with age-dependent breast cancer biology. In real-scenarios, late-onset breast cancer grows more slowly and is less aggressive [2]"
   ]
  },
  {
   "cell_type": "markdown",
   "metadata": {},
   "source": [
    "### Statistical Analysis: Logrank test\n",
    "\n",
    "General form of log-rank test statistic is as follows:\n",
    "$$W = \\frac{X - \\mu}{\\sqrt{Var(X)}} $$\n",
    "Here, $X = \\sum_{k=1}^K q_{1k}$, where $q_{1k}$ is the number of patients who died at time $d_k$ in group 1 and $\\mu = \\sum_{k=1}^K \\frac{r_{1k}}{r_k}q_k$. This gives the following test statistic for log-rank test\n",
    "\n",
    "$$W = \\frac{\\sum_{k=1}^K (q_{1k} - \\mu_k)}{\\sqrt{\\sum_{k=1}^K Var(q_{1k})}} $$\n",
    "\n",
    "When sample size is large, $W$ follows an approximate normal distribution\n"
   ]
  },
  {
   "cell_type": "code",
   "execution_count": 59,
   "metadata": {},
   "outputs": [
    {
     "data": {
      "text/html": [
       "<div>\n",
       "<style scoped>\n",
       "    .dataframe tbody tr th:only-of-type {\n",
       "        vertical-align: middle;\n",
       "    }\n",
       "\n",
       "    .dataframe tbody tr th {\n",
       "        vertical-align: top;\n",
       "    }\n",
       "\n",
       "    .dataframe thead th {\n",
       "        text-align: right;\n",
       "    }\n",
       "</style>\n",
       "<table border=\"1\" class=\"dataframe\">\n",
       "  <tbody>\n",
       "    <tr>\n",
       "      <th>t_0</th>\n",
       "      <td>-1</td>\n",
       "    </tr>\n",
       "    <tr>\n",
       "      <th>null_distribution</th>\n",
       "      <td>chi squared</td>\n",
       "    </tr>\n",
       "    <tr>\n",
       "      <th>degrees_of_freedom</th>\n",
       "      <td>1</td>\n",
       "    </tr>\n",
       "    <tr>\n",
       "      <th>test_name</th>\n",
       "      <td>logrank_test</td>\n",
       "    </tr>\n",
       "  </tbody>\n",
       "</table>\n",
       "</div><table border=\"1\" class=\"dataframe\">\n",
       "  <thead>\n",
       "    <tr style=\"text-align: right;\">\n",
       "      <th></th>\n",
       "      <th>test_statistic</th>\n",
       "      <th>p</th>\n",
       "      <th>-log2(p)</th>\n",
       "    </tr>\n",
       "  </thead>\n",
       "  <tbody>\n",
       "    <tr>\n",
       "      <th>0</th>\n",
       "      <td>14.12</td>\n",
       "      <td>&lt;0.005</td>\n",
       "      <td>12.51</td>\n",
       "    </tr>\n",
       "  </tbody>\n",
       "</table>"
      ],
      "text/latex": [
       "\\begin{tabular}{lrrr}\n",
       " & test_statistic & p & -log2(p) \\\\\n",
       "0 & 14.12 & 0.00 & 12.51 \\\\\n",
       "\\end{tabular}\n"
      ],
      "text/plain": [
       "<lifelines.StatisticalResult: logrank_test>\n",
       "               t_0 = -1\n",
       " null_distribution = chi squared\n",
       "degrees_of_freedom = 1\n",
       "         test_name = logrank_test\n",
       "\n",
       "---\n",
       " test_statistic      p  -log2(p)\n",
       "          14.12 <0.005     12.51"
      ]
     },
     "metadata": {},
     "output_type": "display_data"
    }
   ],
   "source": [
    "# logrank test between survival times of patients above and below the stratifyng age\n",
    "stats_results = logrank_test(df_final.loc[mask,\"follow_up_time\"], df_final.loc[~mask,\"follow_up_time\"], \n",
    "                             df_final.loc[mask,\"status\"], df_final.loc[~mask,\"status\"])\n",
    "\n",
    "# Printing summary of results\n",
    "stats_results.print_summary()"
   ]
  },
  {
   "cell_type": "markdown",
   "metadata": {},
   "source": [
    "**OBSERVATION**: <br>\n",
    "- _p_-value < $\\alpha$ (=0.05), hence there is enough evidence to reject the null hypothesis.\n",
    "- Difference in the survival curves of patients stratified by age at diagnosis = 60 is statistically significant"
   ]
  },
  {
   "cell_type": "markdown",
   "metadata": {},
   "source": [
    "## References\n",
    "\n",
    "[1] <br>\n",
    "[2] https://www.sciencedirect.com/science/article/pii/S1040842807001795?via%3Dihub#fig3"
   ]
  },
  {
   "cell_type": "markdown",
   "metadata": {},
   "source": [
    "## Miscellaneous"
   ]
  },
  {
   "cell_type": "code",
   "execution_count": 60,
   "metadata": {},
   "outputs": [
    {
     "name": "stdout",
     "output_type": "stream",
     "text": [
      "('0004477e-31f7-4704-a123-2b68dd64aaed', '2019-11-04 00:00:00', 'C50', 'icd10')\n",
      "('0004477e-31f7-4704-a123-2b68dd64aaed', '2012-12-18 00:00:00', 'J18.9', 'icd10')\n"
     ]
    }
   ],
   "source": [
    "con = sqlite3.connect(\"techTest.db\")\n",
    "cur = con.cursor()\n",
    "cur.execute('''--sql\n",
    "            SELECT *\n",
    "            FROM diagnosis\n",
    "            WHERE patient_id = \"0004477e-31f7-4704-a123-2b68dd64aaed\"\n",
    "''')\n",
    "for item in cur.fetchmany(10):\n",
    "    print(item)"
   ]
  },
  {
   "cell_type": "code",
   "execution_count": 61,
   "metadata": {},
   "outputs": [
    {
     "data": {
      "text/plain": [
       "(3026, 3)"
      ]
     },
     "execution_count": 61,
     "metadata": {},
     "output_type": "execute_result"
    }
   ],
   "source": [
    "query_inner = '''--sql\n",
    "                SELECT \n",
    "                    p.patient_id, \n",
    "                    d.diagnosis_code,\n",
    "                    d.diagnosis_date\n",
    "                    ---b.test_date---\n",
    "\n",
    "                FROM \n",
    "                    patient as p\n",
    "                LEFT JOIN \n",
    "                    diagnosis as d\n",
    "                    ON p.patient_id = d.patient_id\n",
    "                    ;\n",
    "                ---LEFT JOIN---\n",
    "                 ---   biomarker as b---\n",
    "                 ---   ON p.patient_id = b.patient_id;---\n",
    "                '''\n",
    "df_inner = pd.read_sql_query(query_inner, con)\n",
    "df_inner.shape"
   ]
  },
  {
   "cell_type": "code",
   "execution_count": 62,
   "metadata": {},
   "outputs": [
    {
     "data": {
      "text/html": [
       "<div>\n",
       "<style scoped>\n",
       "    .dataframe tbody tr th:only-of-type {\n",
       "        vertical-align: middle;\n",
       "    }\n",
       "\n",
       "    .dataframe tbody tr th {\n",
       "        vertical-align: top;\n",
       "    }\n",
       "\n",
       "    .dataframe thead th {\n",
       "        text-align: right;\n",
       "    }\n",
       "</style>\n",
       "<table border=\"1\" class=\"dataframe\">\n",
       "  <thead>\n",
       "    <tr style=\"text-align: right;\">\n",
       "      <th></th>\n",
       "      <th>patient_id</th>\n",
       "      <th>diagnosis_code</th>\n",
       "      <th>diagnosis_date</th>\n",
       "    </tr>\n",
       "  </thead>\n",
       "  <tbody>\n",
       "    <tr>\n",
       "      <th>0</th>\n",
       "      <td>019d3689-e49a-4f23-8ca1-65379907230b</td>\n",
       "      <td>C50.4</td>\n",
       "      <td>1996-10-05 00:00:00</td>\n",
       "    </tr>\n",
       "    <tr>\n",
       "      <th>1</th>\n",
       "      <td>019d3689-e49a-4f23-8ca1-65379907230b</td>\n",
       "      <td>C50.4</td>\n",
       "      <td>2004-10-30 00:00:00</td>\n",
       "    </tr>\n",
       "    <tr>\n",
       "      <th>2</th>\n",
       "      <td>019d3689-e49a-4f23-8ca1-65379907230b</td>\n",
       "      <td>C50</td>\n",
       "      <td>2020-06-13 00:00:00</td>\n",
       "    </tr>\n",
       "    <tr>\n",
       "      <th>3</th>\n",
       "      <td>81de4975-519f-48c6-a5fa-a57d891495a6</td>\n",
       "      <td>C50</td>\n",
       "      <td>1986-04-01 00:00:00</td>\n",
       "    </tr>\n",
       "    <tr>\n",
       "      <th>4</th>\n",
       "      <td>dbed4b3e-33ba-4856-a78d-3db6d211def8</td>\n",
       "      <td>I10</td>\n",
       "      <td>1993-09-08 00:00:00</td>\n",
       "    </tr>\n",
       "  </tbody>\n",
       "</table>\n",
       "</div>"
      ],
      "text/plain": [
       "                             patient_id diagnosis_code       diagnosis_date\n",
       "0  019d3689-e49a-4f23-8ca1-65379907230b          C50.4  1996-10-05 00:00:00\n",
       "1  019d3689-e49a-4f23-8ca1-65379907230b          C50.4  2004-10-30 00:00:00\n",
       "2  019d3689-e49a-4f23-8ca1-65379907230b            C50  2020-06-13 00:00:00\n",
       "3  81de4975-519f-48c6-a5fa-a57d891495a6            C50  1986-04-01 00:00:00\n",
       "4  dbed4b3e-33ba-4856-a78d-3db6d211def8            I10  1993-09-08 00:00:00"
      ]
     },
     "execution_count": 62,
     "metadata": {},
     "output_type": "execute_result"
    }
   ],
   "source": [
    "df_inner.head()"
   ]
  },
  {
   "cell_type": "code",
   "execution_count": 63,
   "metadata": {},
   "outputs": [
    {
     "data": {
      "text/plain": [
       "(941, 3)"
      ]
     },
     "execution_count": 63,
     "metadata": {},
     "output_type": "execute_result"
    }
   ],
   "source": [
    "df_filter = df_inner[df_inner[\"diagnosis_code\"].str.contains('C50.*')]\n",
    "df_filter2 = df_filter.drop_duplicates(\"patient_id\")\n",
    "df_filter2.shape"
   ]
  },
  {
   "cell_type": "code",
   "execution_count": 64,
   "metadata": {},
   "outputs": [
    {
     "name": "stdout",
     "output_type": "stream",
     "text": [
      "941x6\n"
     ]
    },
    {
     "data": {
      "text/html": [
       "<div>\n",
       "<style scoped>\n",
       "    .dataframe tbody tr th:only-of-type {\n",
       "        vertical-align: middle;\n",
       "    }\n",
       "\n",
       "    .dataframe tbody tr th {\n",
       "        vertical-align: top;\n",
       "    }\n",
       "\n",
       "    .dataframe thead th {\n",
       "        text-align: right;\n",
       "    }\n",
       "</style>\n",
       "<table border=\"1\" class=\"dataframe\">\n",
       "  <thead>\n",
       "    <tr style=\"text-align: right;\">\n",
       "      <th></th>\n",
       "      <th>patient_id</th>\n",
       "      <th>dod</th>\n",
       "      <th>age_at_diagnosis</th>\n",
       "      <th>first_diagnosis_date</th>\n",
       "      <th>last_diagnosis_date</th>\n",
       "      <th>last_test_date</th>\n",
       "    </tr>\n",
       "  </thead>\n",
       "  <tbody>\n",
       "    <tr>\n",
       "      <th>0</th>\n",
       "      <td>0004477e-31f7-4704-a123-2b68dd64aaed</td>\n",
       "      <td>2008-03-20</td>\n",
       "      <td>59</td>\n",
       "      <td>2019-11-04</td>\n",
       "      <td>2019-11-04</td>\n",
       "      <td>2011-12-03</td>\n",
       "    </tr>\n",
       "    <tr>\n",
       "      <th>1</th>\n",
       "      <td>0022fa14-8260-4b11-88cd-3fa066ede851</td>\n",
       "      <td>2008-03-04</td>\n",
       "      <td>50</td>\n",
       "      <td>1993-04-07</td>\n",
       "      <td>2019-05-20</td>\n",
       "      <td>2004-12-19</td>\n",
       "    </tr>\n",
       "    <tr>\n",
       "      <th>2</th>\n",
       "      <td>0183e236-7892-4aa9-8b7f-10f12676f1ec</td>\n",
       "      <td>2038-03-11</td>\n",
       "      <td>21</td>\n",
       "      <td>1986-06-02</td>\n",
       "      <td>2021-10-13</td>\n",
       "      <td>2023-12-29</td>\n",
       "    </tr>\n",
       "    <tr>\n",
       "      <th>3</th>\n",
       "      <td>019d3689-e49a-4f23-8ca1-65379907230b</td>\n",
       "      <td>2042-06-15</td>\n",
       "      <td>30</td>\n",
       "      <td>1996-10-05</td>\n",
       "      <td>2020-06-13</td>\n",
       "      <td>2018-03-10</td>\n",
       "    </tr>\n",
       "    <tr>\n",
       "      <th>4</th>\n",
       "      <td>01d468fc-55b8-45e3-8eca-dcb7a6185f28</td>\n",
       "      <td>2007-07-30</td>\n",
       "      <td>26</td>\n",
       "      <td>1977-01-16</td>\n",
       "      <td>1981-10-28</td>\n",
       "      <td>1995-12-08</td>\n",
       "    </tr>\n",
       "  </tbody>\n",
       "</table>\n",
       "</div>"
      ],
      "text/plain": [
       "                             patient_id         dod  age_at_diagnosis  \\\n",
       "0  0004477e-31f7-4704-a123-2b68dd64aaed  2008-03-20                59   \n",
       "1  0022fa14-8260-4b11-88cd-3fa066ede851  2008-03-04                50   \n",
       "2  0183e236-7892-4aa9-8b7f-10f12676f1ec  2038-03-11                21   \n",
       "3  019d3689-e49a-4f23-8ca1-65379907230b  2042-06-15                30   \n",
       "4  01d468fc-55b8-45e3-8eca-dcb7a6185f28  2007-07-30                26   \n",
       "\n",
       "  first_diagnosis_date last_diagnosis_date last_test_date  \n",
       "0           2019-11-04          2019-11-04     2011-12-03  \n",
       "1           1993-04-07          2019-05-20     2004-12-19  \n",
       "2           1986-06-02          2021-10-13     2023-12-29  \n",
       "3           1996-10-05          2020-06-13     2018-03-10  \n",
       "4           1977-01-16          1981-10-28     1995-12-08  "
      ]
     },
     "execution_count": 64,
     "metadata": {},
     "output_type": "execute_result"
    }
   ],
   "source": [
    "query_trial= '''--sql\n",
    "                SELECT \n",
    "                    p.patient_id, \n",
    "                    date(p.dod) as dod,  \n",
    "                    STRFTIME(\"%Y\", MIN(d.diagnosis_date)) - STRFTIME(\"%Y\",p.dob) as age_at_diagnosis, \n",
    "                    date(MIN(d.diagnosis_date)) as first_diagnosis_date, \n",
    "                    sub_dates.last_diagnosis_date, \n",
    "                    sub_dates.last_test_date\n",
    "\n",
    "                ---Patient joined to Diagnosis joined to Biomarker on key patient_id---\n",
    "                FROM \n",
    "                    patient as p \n",
    "                LEFT JOIN \n",
    "                    diagnosis as d\n",
    "                        ON p.patient_id = d.patient_id\n",
    "                LEFT JOIN\n",
    "                    (SELECT \n",
    "                        sub_p.patient_id, \n",
    "                        date(MAX(sub_d.diagnosis_date)) as last_diagnosis_date,\n",
    "                        date(MAX(sub_b.test_date)) as last_test_date\n",
    "                    FROM\n",
    "                        patient as sub_p\n",
    "                    LEFT JOIN\n",
    "                        diagnosis as sub_d \n",
    "                            ON sub_p.patient_id = sub_d.patient_id\n",
    "                    LEFT JOIN\n",
    "                        biomarker as sub_b\n",
    "                            ON sub_p.patient_id = sub_b.patient_id\n",
    "                    GROUP BY\n",
    "                        sub_p.patient_id\n",
    "                    ) as sub_dates\n",
    "                    ON p.patient_id = sub_dates.patient_id \n",
    "\n",
    "                WHERE  \n",
    "                    d.diagnosis_code LIKE \"C50%\"\n",
    "                        \n",
    "                GROUP BY \n",
    "                    p.patient_id;\n",
    "\n",
    "                '''\n",
    "df_patient = pd.read_sql_query(query_trial, con)\n",
    "#df_patient[[\"dob\", \"dod\"]] = pd.to_datetime(df_patient[[\"dob\",\"dod\"]])\n",
    "print(f\"{df_patient.shape[0]}x{df_patient.shape[1]}\")\n",
    "df_patient.head()\n"
   ]
  },
  {
   "cell_type": "code",
   "execution_count": 65,
   "metadata": {},
   "outputs": [
    {
     "name": "stdout",
     "output_type": "stream",
     "text": [
      "9258x2\n"
     ]
    },
    {
     "data": {
      "text/plain": [
       "7352"
      ]
     },
     "execution_count": 65,
     "metadata": {},
     "output_type": "execute_result"
    }
   ],
   "source": [
    "query_test = '''--sql\n",
    "                    SELECT \n",
    "                        sub_p.patient_id, sub_d.diagnosis_code\n",
    "                        ---date(MAX(sub_d.diagnosis_date)) as last_dianosis_date,\n",
    "                        ---date(MAX(sub_b.test_date)) as last_test_date\n",
    "                    FROM\n",
    "                        patient as sub_p\n",
    "                    LEFT JOIN\n",
    "                        diagnosis as sub_d \n",
    "                            ON sub_p.patient_id = sub_d.patient_id\n",
    "                    LEFT JOIN\n",
    "                        biomarker as sub_b\n",
    "                            ON sub_p.patient_id = sub_b.patient_id\n",
    "                    ---GROUP BY\n",
    "                    ---    sub_p.patient_id\n",
    "\n",
    "'''\n",
    "\n",
    "df_inner = pd.read_sql_query(query_test, con)\n",
    "print(f\"{df_inner.shape[0]}x{df_inner.shape[1]}\")\n",
    "\n",
    "df_inner[\"diagnosis_code\"].str.match(\"C50.*\").sum()"
   ]
  },
  {
   "cell_type": "code",
   "execution_count": 66,
   "metadata": {},
   "outputs": [
    {
     "data": {
      "text/html": [
       "<div>\n",
       "<style scoped>\n",
       "    .dataframe tbody tr th:only-of-type {\n",
       "        vertical-align: middle;\n",
       "    }\n",
       "\n",
       "    .dataframe tbody tr th {\n",
       "        vertical-align: top;\n",
       "    }\n",
       "\n",
       "    .dataframe thead th {\n",
       "        text-align: right;\n",
       "    }\n",
       "</style>\n",
       "<table border=\"1\" class=\"dataframe\">\n",
       "  <thead>\n",
       "    <tr style=\"text-align: right;\">\n",
       "      <th></th>\n",
       "      <th>diagnosis_code</th>\n",
       "    </tr>\n",
       "    <tr>\n",
       "      <th>patient_id</th>\n",
       "      <th></th>\n",
       "    </tr>\n",
       "  </thead>\n",
       "  <tbody>\n",
       "    <tr>\n",
       "      <th>0004477e-31f7-4704-a123-2b68dd64aaed</th>\n",
       "      <td>3</td>\n",
       "    </tr>\n",
       "    <tr>\n",
       "      <th>0022fa14-8260-4b11-88cd-3fa066ede851</th>\n",
       "      <td>12</td>\n",
       "    </tr>\n",
       "    <tr>\n",
       "      <th>0183e236-7892-4aa9-8b7f-10f12676f1ec</th>\n",
       "      <td>16</td>\n",
       "    </tr>\n",
       "    <tr>\n",
       "      <th>019d3689-e49a-4f23-8ca1-65379907230b</th>\n",
       "      <td>3</td>\n",
       "    </tr>\n",
       "    <tr>\n",
       "      <th>01d468fc-55b8-45e3-8eca-dcb7a6185f28</th>\n",
       "      <td>8</td>\n",
       "    </tr>\n",
       "    <tr>\n",
       "      <th>...</th>\n",
       "      <td>...</td>\n",
       "    </tr>\n",
       "    <tr>\n",
       "      <th>fdd8e833-ca01-4ce5-8ca9-30ec3ba404d8</th>\n",
       "      <td>5</td>\n",
       "    </tr>\n",
       "    <tr>\n",
       "      <th>fe0c8392-f97d-4097-b0f2-a726a17cadd5</th>\n",
       "      <td>3</td>\n",
       "    </tr>\n",
       "    <tr>\n",
       "      <th>fe3690ce-1b13-4bfa-b65e-71d385aeb8c1</th>\n",
       "      <td>20</td>\n",
       "    </tr>\n",
       "    <tr>\n",
       "      <th>fe3e2d80-8c8c-40ee-8fa2-f4cb257c1c65</th>\n",
       "      <td>10</td>\n",
       "    </tr>\n",
       "    <tr>\n",
       "      <th>ff717a0c-6c00-4585-9d45-8e22f9268b29</th>\n",
       "      <td>5</td>\n",
       "    </tr>\n",
       "  </tbody>\n",
       "</table>\n",
       "<p>941 rows × 1 columns</p>\n",
       "</div>"
      ],
      "text/plain": [
       "                                      diagnosis_code\n",
       "patient_id                                          \n",
       "0004477e-31f7-4704-a123-2b68dd64aaed               3\n",
       "0022fa14-8260-4b11-88cd-3fa066ede851              12\n",
       "0183e236-7892-4aa9-8b7f-10f12676f1ec              16\n",
       "019d3689-e49a-4f23-8ca1-65379907230b               3\n",
       "01d468fc-55b8-45e3-8eca-dcb7a6185f28               8\n",
       "...                                              ...\n",
       "fdd8e833-ca01-4ce5-8ca9-30ec3ba404d8               5\n",
       "fe0c8392-f97d-4097-b0f2-a726a17cadd5               3\n",
       "fe3690ce-1b13-4bfa-b65e-71d385aeb8c1              20\n",
       "fe3e2d80-8c8c-40ee-8fa2-f4cb257c1c65              10\n",
       "ff717a0c-6c00-4585-9d45-8e22f9268b29               5\n",
       "\n",
       "[941 rows x 1 columns]"
      ]
     },
     "execution_count": 66,
     "metadata": {},
     "output_type": "execute_result"
    }
   ],
   "source": [
    "df_inner[df_inner[\"diagnosis_code\"].str.match(\"C50.*\")].groupby([\"patient_id\"]).count()"
   ]
  },
  {
   "cell_type": "markdown",
   "metadata": {},
   "source": [
    "*Do patients have multiple date of births* - No, there are 1000 patients"
   ]
  },
  {
   "cell_type": "code",
   "execution_count": 67,
   "metadata": {},
   "outputs": [],
   "source": [
    "#query to group data by patient_id and compare min and max of date of birth\n",
    "\n",
    "cur.execute('''--sql\n",
    "            \n",
    "                SELECT SUM(same_dob) as total_same_dob, COUNT(*) as total_rows\n",
    "\n",
    "                ---Sub-query to count patients whesre MIN(dob) is equal to MAX(dob)---\n",
    "                FROM (\n",
    "                    SELECT COUNT(*) as same_dob\n",
    "                    FROM Patient\n",
    "                    GROUP BY patient_id\n",
    "                    ---HAVING MIN(dob) = MAX(dob)---\n",
    "                    );\n",
    "                \n",
    "            ''')\n",
    "\n",
    "total_same_dob, total_rows = cur.fetchone()\n",
    "\n",
    "# assert statement to check whether all patients have identical dob\n",
    "assert total_same_dob == total_rows, \"A patient has multiple dobs\""
   ]
  },
  {
   "cell_type": "code",
   "execution_count": 68,
   "metadata": {},
   "outputs": [
    {
     "data": {
      "image/png": "[encoded data removed]",
      "text/plain": [
       "<Figure size 1000x600 with 1 Axes>"
      ]
     },
     "metadata": {},
     "output_type": "display_data"
    }
   ],
   "source": [
    "query_age = '''\n",
    "                SELECT STRFTIME(\"%Y\",dod) - STRFTIME(\"%Y\",dob) as age, gender\n",
    "                FROM patient\n",
    "                WHERE gender != \"NULL\"\n",
    "                '''\n",
    "df_age = pd.read_sql_query(query_age, con)\n",
    "df_age.boxplot(by = \"gender\")\n",
    "plt.title(\"Distribution of age stratified by age\")\n",
    "plt.ylabel(\"Years\")\n",
    "plt.show()"
   ]
  },
  {
   "cell_type": "code",
   "execution_count": 70,
   "metadata": {},
   "outputs": [
    {
     "ename": "KeyError",
     "evalue": "'gender'",
     "output_type": "error",
     "traceback": [
      "\u001b[1;31m---------------------------------------------------------------------------\u001b[0m",
      "\u001b[1;31mKeyError\u001b[0m                                  Traceback (most recent call last)",
      "File \u001b[1;32mc:\\Users\\vinay\\anaconda3\\Lib\\site-packages\\pandas\\core\\indexes\\base.py:3791\u001b[0m, in \u001b[0;36mIndex.get_loc\u001b[1;34m(self, key)\u001b[0m\n\u001b[0;32m   3790\u001b[0m \u001b[38;5;28;01mtry\u001b[39;00m:\n\u001b[1;32m-> 3791\u001b[0m     \u001b[38;5;28;01mreturn\u001b[39;00m \u001b[38;5;28mself\u001b[39m\u001b[38;5;241m.\u001b[39m_engine\u001b[38;5;241m.\u001b[39mget_loc(casted_key)\n\u001b[0;32m   3792\u001b[0m \u001b[38;5;28;01mexcept\u001b[39;00m \u001b[38;5;167;01mKeyError\u001b[39;00m \u001b[38;5;28;01mas\u001b[39;00m err:\n",
      "File \u001b[1;32mindex.pyx:152\u001b[0m, in \u001b[0;36mpandas._libs.index.IndexEngine.get_loc\u001b[1;34m()\u001b[0m\n",
      "File \u001b[1;32mindex.pyx:181\u001b[0m, in \u001b[0;36mpandas._libs.index.IndexEngine.get_loc\u001b[1;34m()\u001b[0m\n",
      "File \u001b[1;32mpandas\\_libs\\hashtable_class_helper.pxi:7080\u001b[0m, in \u001b[0;36mpandas._libs.hashtable.PyObjectHashTable.get_item\u001b[1;34m()\u001b[0m\n",
      "File \u001b[1;32mpandas\\_libs\\hashtable_class_helper.pxi:7088\u001b[0m, in \u001b[0;36mpandas._libs.hashtable.PyObjectHashTable.get_item\u001b[1;34m()\u001b[0m\n",
      "\u001b[1;31mKeyError\u001b[0m: 'gender'",
      "\nThe above exception was the direct cause of the following exception:\n",
      "\u001b[1;31mKeyError\u001b[0m                                  Traceback (most recent call last)",
      "Cell \u001b[1;32mIn[70], line 1\u001b[0m\n\u001b[1;32m----> 1\u001b[0m df_final[\u001b[38;5;124m\"\u001b[39m\u001b[38;5;124mgender\u001b[39m\u001b[38;5;124m\"\u001b[39m]\u001b[38;5;241m.\u001b[39mcount_values()\n",
      "File \u001b[1;32mc:\\Users\\vinay\\anaconda3\\Lib\\site-packages\\pandas\\core\\frame.py:3893\u001b[0m, in \u001b[0;36mDataFrame.__getitem__\u001b[1;34m(self, key)\u001b[0m\n\u001b[0;32m   3891\u001b[0m \u001b[38;5;28;01mif\u001b[39;00m \u001b[38;5;28mself\u001b[39m\u001b[38;5;241m.\u001b[39mcolumns\u001b[38;5;241m.\u001b[39mnlevels \u001b[38;5;241m>\u001b[39m \u001b[38;5;241m1\u001b[39m:\n\u001b[0;32m   3892\u001b[0m     \u001b[38;5;28;01mreturn\u001b[39;00m \u001b[38;5;28mself\u001b[39m\u001b[38;5;241m.\u001b[39m_getitem_multilevel(key)\n\u001b[1;32m-> 3893\u001b[0m indexer \u001b[38;5;241m=\u001b[39m \u001b[38;5;28mself\u001b[39m\u001b[38;5;241m.\u001b[39mcolumns\u001b[38;5;241m.\u001b[39mget_loc(key)\n\u001b[0;32m   3894\u001b[0m \u001b[38;5;28;01mif\u001b[39;00m is_integer(indexer):\n\u001b[0;32m   3895\u001b[0m     indexer \u001b[38;5;241m=\u001b[39m [indexer]\n",
      "File \u001b[1;32mc:\\Users\\vinay\\anaconda3\\Lib\\site-packages\\pandas\\core\\indexes\\base.py:3798\u001b[0m, in \u001b[0;36mIndex.get_loc\u001b[1;34m(self, key)\u001b[0m\n\u001b[0;32m   3793\u001b[0m     \u001b[38;5;28;01mif\u001b[39;00m \u001b[38;5;28misinstance\u001b[39m(casted_key, \u001b[38;5;28mslice\u001b[39m) \u001b[38;5;129;01mor\u001b[39;00m (\n\u001b[0;32m   3794\u001b[0m         \u001b[38;5;28misinstance\u001b[39m(casted_key, abc\u001b[38;5;241m.\u001b[39mIterable)\n\u001b[0;32m   3795\u001b[0m         \u001b[38;5;129;01mand\u001b[39;00m \u001b[38;5;28many\u001b[39m(\u001b[38;5;28misinstance\u001b[39m(x, \u001b[38;5;28mslice\u001b[39m) \u001b[38;5;28;01mfor\u001b[39;00m x \u001b[38;5;129;01min\u001b[39;00m casted_key)\n\u001b[0;32m   3796\u001b[0m     ):\n\u001b[0;32m   3797\u001b[0m         \u001b[38;5;28;01mraise\u001b[39;00m InvalidIndexError(key)\n\u001b[1;32m-> 3798\u001b[0m     \u001b[38;5;28;01mraise\u001b[39;00m \u001b[38;5;167;01mKeyError\u001b[39;00m(key) \u001b[38;5;28;01mfrom\u001b[39;00m \u001b[38;5;21;01merr\u001b[39;00m\n\u001b[0;32m   3799\u001b[0m \u001b[38;5;28;01mexcept\u001b[39;00m \u001b[38;5;167;01mTypeError\u001b[39;00m:\n\u001b[0;32m   3800\u001b[0m     \u001b[38;5;66;03m# If we have a listlike key, _check_indexing_error will raise\u001b[39;00m\n\u001b[0;32m   3801\u001b[0m     \u001b[38;5;66;03m#  InvalidIndexError. Otherwise we fall through and re-raise\u001b[39;00m\n\u001b[0;32m   3802\u001b[0m     \u001b[38;5;66;03m#  the TypeError.\u001b[39;00m\n\u001b[0;32m   3803\u001b[0m     \u001b[38;5;28mself\u001b[39m\u001b[38;5;241m.\u001b[39m_check_indexing_error(key)\n",
      "\u001b[1;31mKeyError\u001b[0m: 'gender'"
     ]
    }
   ],
   "source": [
    "df_final[\"gender\"].count_values()"
   ]
  },
  {
   "cell_type": "code",
   "execution_count": null,
   "metadata": {},
   "outputs": [
    {
     "data": {
      "image/png": "[encoded data removed]",
      "text/plain": [
       "<Figure size 1000x600 with 2 Axes>"
      ]
     },
     "metadata": {},
     "output_type": "display_data"
    }
   ],
   "source": [
    "df_removenull = df[df[\"gender\"]!=\"NULL\"]\n",
    "df_removenull[[\"follow_up_time\", \"age_at_diagnosis\", \"gender\"]].boxplot(by = \"gender\", xlabel = \"Gender\")\n",
    "fig.tight_layout(pad = 2)\n",
    "plt.show()"
   ]
  },
  {
   "cell_type": "markdown",
   "metadata": {},
   "source": [
    "### Testing HER2 status with pandas"
   ]
  },
  {
   "cell_type": "code",
   "execution_count": null,
   "metadata": {},
   "outputs": [
    {
     "name": "stdout",
     "output_type": "stream",
     "text": [
      "(2873, 4)\n",
      "denominator: 941\n",
      "Intention to treat: 1426.00\n",
      "Tested_rate: 900.00\n",
      "Tested_rate: 411.00\n"
     ]
    },
    {
     "data": {
      "text/plain": [
       "array(['Positive', 'Negative', 'Unknown', 'Equivocal', 'Inconclusive',\n",
       "       'NA'], dtype=object)"
      ]
     },
     "metadata": {},
     "output_type": "display_data"
    }
   ],
   "source": [
    "sql_query = '''--sql\n",
    "                SELECT p.patient_id, b.biomarker_name, b.test_result, b.biomarker_test_type\n",
    "                \n",
    "                ---JOIN patient and biomarker table---\n",
    "                FROM \n",
    "                    patient as p \n",
    "                LEFT JOIN \n",
    "                    biomarker as b \n",
    "                        on p.patient_id = b.patient_id\n",
    "   \n",
    "                ---sub-query to select patients with breast cancer with diagnosis_code starting with C50---\n",
    "                WHERE \n",
    "                    p.patient_id IN (\n",
    "                        SELECT \n",
    "                            patient_id\n",
    "                        FROM \n",
    "                            diagnosis\n",
    "                        WHERE \n",
    "                            diagnosis_code LIKE \"C50%\"\n",
    "                        );\n",
    "            '''\n",
    "\n",
    "df_her2_status = pd.read_sql_query(sql_query, con)\n",
    "print(df_her2_status.shape)\n",
    "print(f\"denominator: {len(df_her2_status['patient_id'].unique())}\")\n",
    "print(f\"Intention to treat: {(df_her2_status['biomarker_name']=='HER2').sum():0.2f}\")\n",
    "print(f\"Tested_rate: {((df_her2_status['biomarker_name']=='HER2') & (df_her2_status['biomarker_test_type'].isin(['PCR','IHC']))).sum():0.2f}\")\n",
    "print(f\"Tested_rate: {((df_her2_status['biomarker_name']=='HER2') & (df_her2_status['test_result'] == 'Negative')).sum():0.2f}\")\n",
    "df_her2_status[\"test_result\"].unique()\n"
   ]
  },
  {
   "cell_type": "code",
   "execution_count": null,
   "metadata": {},
   "outputs": [
    {
     "data": {
      "text/html": [
       "<div>\n",
       "<style scoped>\n",
       "    .dataframe tbody tr th:only-of-type {\n",
       "        vertical-align: middle;\n",
       "    }\n",
       "\n",
       "    .dataframe tbody tr th {\n",
       "        vertical-align: top;\n",
       "    }\n",
       "\n",
       "    .dataframe thead th {\n",
       "        text-align: right;\n",
       "    }\n",
       "</style>\n",
       "<table border=\"1\" class=\"dataframe\">\n",
       "  <thead>\n",
       "    <tr style=\"text-align: right;\">\n",
       "      <th></th>\n",
       "      <th>biomarker_name</th>\n",
       "      <th>test_result</th>\n",
       "      <th>biomarker_test_type</th>\n",
       "    </tr>\n",
       "    <tr>\n",
       "      <th>patient_id</th>\n",
       "      <th></th>\n",
       "      <th></th>\n",
       "      <th></th>\n",
       "    </tr>\n",
       "  </thead>\n",
       "  <tbody>\n",
       "    <tr>\n",
       "      <th>0004477e-31f7-4704-a123-2b68dd64aaed</th>\n",
       "      <td>1</td>\n",
       "      <td>1</td>\n",
       "      <td>1</td>\n",
       "    </tr>\n",
       "    <tr>\n",
       "      <th>0022fa14-8260-4b11-88cd-3fa066ede851</th>\n",
       "      <td>1</td>\n",
       "      <td>1</td>\n",
       "      <td>1</td>\n",
       "    </tr>\n",
       "    <tr>\n",
       "      <th>0183e236-7892-4aa9-8b7f-10f12676f1ec</th>\n",
       "      <td>1</td>\n",
       "      <td>1</td>\n",
       "      <td>1</td>\n",
       "    </tr>\n",
       "    <tr>\n",
       "      <th>01d468fc-55b8-45e3-8eca-dcb7a6185f28</th>\n",
       "      <td>3</td>\n",
       "      <td>3</td>\n",
       "      <td>3</td>\n",
       "    </tr>\n",
       "    <tr>\n",
       "      <th>022ff2bf-19d7-4c4d-8410-a91773ad24f2</th>\n",
       "      <td>4</td>\n",
       "      <td>4</td>\n",
       "      <td>4</td>\n",
       "    </tr>\n",
       "    <tr>\n",
       "      <th>...</th>\n",
       "      <td>...</td>\n",
       "      <td>...</td>\n",
       "      <td>...</td>\n",
       "    </tr>\n",
       "    <tr>\n",
       "      <th>fdd8e833-ca01-4ce5-8ca9-30ec3ba404d8</th>\n",
       "      <td>3</td>\n",
       "      <td>3</td>\n",
       "      <td>3</td>\n",
       "    </tr>\n",
       "    <tr>\n",
       "      <th>fe0c8392-f97d-4097-b0f2-a726a17cadd5</th>\n",
       "      <td>1</td>\n",
       "      <td>1</td>\n",
       "      <td>1</td>\n",
       "    </tr>\n",
       "    <tr>\n",
       "      <th>fe3690ce-1b13-4bfa-b65e-71d385aeb8c1</th>\n",
       "      <td>2</td>\n",
       "      <td>2</td>\n",
       "      <td>2</td>\n",
       "    </tr>\n",
       "    <tr>\n",
       "      <th>fe3e2d80-8c8c-40ee-8fa2-f4cb257c1c65</th>\n",
       "      <td>2</td>\n",
       "      <td>2</td>\n",
       "      <td>2</td>\n",
       "    </tr>\n",
       "    <tr>\n",
       "      <th>ff717a0c-6c00-4585-9d45-8e22f9268b29</th>\n",
       "      <td>3</td>\n",
       "      <td>3</td>\n",
       "      <td>3</td>\n",
       "    </tr>\n",
       "  </tbody>\n",
       "</table>\n",
       "<p>765 rows × 3 columns</p>\n",
       "</div>"
      ],
      "text/plain": [
       "                                      biomarker_name  test_result  \\\n",
       "patient_id                                                          \n",
       "0004477e-31f7-4704-a123-2b68dd64aaed               1            1   \n",
       "0022fa14-8260-4b11-88cd-3fa066ede851               1            1   \n",
       "0183e236-7892-4aa9-8b7f-10f12676f1ec               1            1   \n",
       "01d468fc-55b8-45e3-8eca-dcb7a6185f28               3            3   \n",
       "022ff2bf-19d7-4c4d-8410-a91773ad24f2               4            4   \n",
       "...                                              ...          ...   \n",
       "fdd8e833-ca01-4ce5-8ca9-30ec3ba404d8               3            3   \n",
       "fe0c8392-f97d-4097-b0f2-a726a17cadd5               1            1   \n",
       "fe3690ce-1b13-4bfa-b65e-71d385aeb8c1               2            2   \n",
       "fe3e2d80-8c8c-40ee-8fa2-f4cb257c1c65               2            2   \n",
       "ff717a0c-6c00-4585-9d45-8e22f9268b29               3            3   \n",
       "\n",
       "                                      biomarker_test_type  \n",
       "patient_id                                                 \n",
       "0004477e-31f7-4704-a123-2b68dd64aaed                    1  \n",
       "0022fa14-8260-4b11-88cd-3fa066ede851                    1  \n",
       "0183e236-7892-4aa9-8b7f-10f12676f1ec                    1  \n",
       "01d468fc-55b8-45e3-8eca-dcb7a6185f28                    3  \n",
       "022ff2bf-19d7-4c4d-8410-a91773ad24f2                    4  \n",
       "...                                                   ...  \n",
       "fdd8e833-ca01-4ce5-8ca9-30ec3ba404d8                    3  \n",
       "fe0c8392-f97d-4097-b0f2-a726a17cadd5                    1  \n",
       "fe3690ce-1b13-4bfa-b65e-71d385aeb8c1                    2  \n",
       "fe3e2d80-8c8c-40ee-8fa2-f4cb257c1c65                    2  \n",
       "ff717a0c-6c00-4585-9d45-8e22f9268b29                    3  \n",
       "\n",
       "[765 rows x 3 columns]"
      ]
     },
     "metadata": {},
     "output_type": "display_data"
    }
   ],
   "source": [
    "df_her2_status[df_her2_status[\"biomarker_name\"]==\"HER2\"].groupby(\"patient_id\").count()"
   ]
  },
  {
   "cell_type": "code",
   "execution_count": null,
   "metadata": {},
   "outputs": [
    {
     "data": {
      "text/plain": [
       "0.8129649309245484"
      ]
     },
     "execution_count": 22,
     "metadata": {},
     "output_type": "execute_result"
    }
   ],
   "source": [
    "765/941"
   ]
  },
  {
   "cell_type": "code",
   "execution_count": null,
   "metadata": {},
   "outputs": [
    {
     "data": {
      "text/html": [
       "<div>\n",
       "<style scoped>\n",
       "    .dataframe tbody tr th:only-of-type {\n",
       "        vertical-align: middle;\n",
       "    }\n",
       "\n",
       "    .dataframe tbody tr th {\n",
       "        vertical-align: top;\n",
       "    }\n",
       "\n",
       "    .dataframe thead th {\n",
       "        text-align: right;\n",
       "    }\n",
       "</style>\n",
       "<table border=\"1\" class=\"dataframe\">\n",
       "  <thead>\n",
       "    <tr style=\"text-align: right;\">\n",
       "      <th></th>\n",
       "      <th>biomarker_name</th>\n",
       "      <th>test_result</th>\n",
       "      <th>biomarker_test_type</th>\n",
       "    </tr>\n",
       "    <tr>\n",
       "      <th>patient_id</th>\n",
       "      <th></th>\n",
       "      <th></th>\n",
       "      <th></th>\n",
       "    </tr>\n",
       "  </thead>\n",
       "  <tbody>\n",
       "    <tr>\n",
       "      <th>0004477e-31f7-4704-a123-2b68dd64aaed</th>\n",
       "      <td>1</td>\n",
       "      <td>1</td>\n",
       "      <td>1</td>\n",
       "    </tr>\n",
       "    <tr>\n",
       "      <th>0022fa14-8260-4b11-88cd-3fa066ede851</th>\n",
       "      <td>1</td>\n",
       "      <td>1</td>\n",
       "      <td>1</td>\n",
       "    </tr>\n",
       "    <tr>\n",
       "      <th>01d468fc-55b8-45e3-8eca-dcb7a6185f28</th>\n",
       "      <td>3</td>\n",
       "      <td>3</td>\n",
       "      <td>3</td>\n",
       "    </tr>\n",
       "    <tr>\n",
       "      <th>022ff2bf-19d7-4c4d-8410-a91773ad24f2</th>\n",
       "      <td>2</td>\n",
       "      <td>2</td>\n",
       "      <td>2</td>\n",
       "    </tr>\n",
       "    <tr>\n",
       "      <th>023f0abd-4675-4b59-96e9-5b5ca052560a</th>\n",
       "      <td>1</td>\n",
       "      <td>1</td>\n",
       "      <td>1</td>\n",
       "    </tr>\n",
       "    <tr>\n",
       "      <th>...</th>\n",
       "      <td>...</td>\n",
       "      <td>...</td>\n",
       "      <td>...</td>\n",
       "    </tr>\n",
       "    <tr>\n",
       "      <th>fd0c8dae-b4ef-4ed6-917c-4ac27aa67635</th>\n",
       "      <td>3</td>\n",
       "      <td>3</td>\n",
       "      <td>3</td>\n",
       "    </tr>\n",
       "    <tr>\n",
       "      <th>fd6ec646-f3ae-4552-8b63-aa10255f5095</th>\n",
       "      <td>2</td>\n",
       "      <td>2</td>\n",
       "      <td>2</td>\n",
       "    </tr>\n",
       "    <tr>\n",
       "      <th>fdd8e833-ca01-4ce5-8ca9-30ec3ba404d8</th>\n",
       "      <td>2</td>\n",
       "      <td>2</td>\n",
       "      <td>2</td>\n",
       "    </tr>\n",
       "    <tr>\n",
       "      <th>fe3690ce-1b13-4bfa-b65e-71d385aeb8c1</th>\n",
       "      <td>1</td>\n",
       "      <td>1</td>\n",
       "      <td>1</td>\n",
       "    </tr>\n",
       "    <tr>\n",
       "      <th>ff717a0c-6c00-4585-9d45-8e22f9268b29</th>\n",
       "      <td>2</td>\n",
       "      <td>2</td>\n",
       "      <td>2</td>\n",
       "    </tr>\n",
       "  </tbody>\n",
       "</table>\n",
       "<p>520 rows × 3 columns</p>\n",
       "</div>"
      ],
      "text/plain": [
       "                                      biomarker_name  test_result  \\\n",
       "patient_id                                                          \n",
       "0004477e-31f7-4704-a123-2b68dd64aaed               1            1   \n",
       "0022fa14-8260-4b11-88cd-3fa066ede851               1            1   \n",
       "01d468fc-55b8-45e3-8eca-dcb7a6185f28               3            3   \n",
       "022ff2bf-19d7-4c4d-8410-a91773ad24f2               2            2   \n",
       "023f0abd-4675-4b59-96e9-5b5ca052560a               1            1   \n",
       "...                                              ...          ...   \n",
       "fd0c8dae-b4ef-4ed6-917c-4ac27aa67635               3            3   \n",
       "fd6ec646-f3ae-4552-8b63-aa10255f5095               2            2   \n",
       "fdd8e833-ca01-4ce5-8ca9-30ec3ba404d8               2            2   \n",
       "fe3690ce-1b13-4bfa-b65e-71d385aeb8c1               1            1   \n",
       "ff717a0c-6c00-4585-9d45-8e22f9268b29               2            2   \n",
       "\n",
       "                                      biomarker_test_type  \n",
       "patient_id                                                 \n",
       "0004477e-31f7-4704-a123-2b68dd64aaed                    1  \n",
       "0022fa14-8260-4b11-88cd-3fa066ede851                    1  \n",
       "01d468fc-55b8-45e3-8eca-dcb7a6185f28                    3  \n",
       "022ff2bf-19d7-4c4d-8410-a91773ad24f2                    2  \n",
       "023f0abd-4675-4b59-96e9-5b5ca052560a                    1  \n",
       "...                                                   ...  \n",
       "fd0c8dae-b4ef-4ed6-917c-4ac27aa67635                    3  \n",
       "fd6ec646-f3ae-4552-8b63-aa10255f5095                    2  \n",
       "fdd8e833-ca01-4ce5-8ca9-30ec3ba404d8                    2  \n",
       "fe3690ce-1b13-4bfa-b65e-71d385aeb8c1                    1  \n",
       "ff717a0c-6c00-4585-9d45-8e22f9268b29                    2  \n",
       "\n",
       "[520 rows x 3 columns]"
      ]
     },
     "metadata": {},
     "output_type": "display_data"
    }
   ],
   "source": [
    "df_her2_status[(df_her2_status[\"biomarker_name\"]==\"HER2\") & (df_her2_status[\"test_result\"].isin([\"Positive\", \"Negative\"])) ].groupby(\"patient_id\").count()"
   ]
  },
  {
   "cell_type": "code",
   "execution_count": null,
   "metadata": {},
   "outputs": [
    {
     "data": {
      "text/plain": [
       "0.5526036131774708"
      ]
     },
     "metadata": {},
     "output_type": "display_data"
    }
   ],
   "source": [
    "520/941"
   ]
  },
  {
   "cell_type": "code",
   "execution_count": null,
   "metadata": {},
   "outputs": [
    {
     "data": {
      "text/html": [
       "<div>\n",
       "<style scoped>\n",
       "    .dataframe tbody tr th:only-of-type {\n",
       "        vertical-align: middle;\n",
       "    }\n",
       "\n",
       "    .dataframe tbody tr th {\n",
       "        vertical-align: top;\n",
       "    }\n",
       "\n",
       "    .dataframe thead th {\n",
       "        text-align: right;\n",
       "    }\n",
       "</style>\n",
       "<table border=\"1\" class=\"dataframe\">\n",
       "  <thead>\n",
       "    <tr style=\"text-align: right;\">\n",
       "      <th></th>\n",
       "      <th>biomarker_name</th>\n",
       "      <th>test_result</th>\n",
       "      <th>biomarker_test_type</th>\n",
       "    </tr>\n",
       "    <tr>\n",
       "      <th>patient_id</th>\n",
       "      <th></th>\n",
       "      <th></th>\n",
       "      <th></th>\n",
       "    </tr>\n",
       "  </thead>\n",
       "  <tbody>\n",
       "    <tr>\n",
       "      <th>0004477e-31f7-4704-a123-2b68dd64aaed</th>\n",
       "      <td>1</td>\n",
       "      <td>1</td>\n",
       "      <td>1</td>\n",
       "    </tr>\n",
       "    <tr>\n",
       "      <th>01d468fc-55b8-45e3-8eca-dcb7a6185f28</th>\n",
       "      <td>2</td>\n",
       "      <td>2</td>\n",
       "      <td>2</td>\n",
       "    </tr>\n",
       "    <tr>\n",
       "      <th>022ff2bf-19d7-4c4d-8410-a91773ad24f2</th>\n",
       "      <td>1</td>\n",
       "      <td>1</td>\n",
       "      <td>1</td>\n",
       "    </tr>\n",
       "    <tr>\n",
       "      <th>023f0abd-4675-4b59-96e9-5b5ca052560a</th>\n",
       "      <td>1</td>\n",
       "      <td>1</td>\n",
       "      <td>1</td>\n",
       "    </tr>\n",
       "    <tr>\n",
       "      <th>05720cba-7eda-4f7e-b0e8-bcc1022a1702</th>\n",
       "      <td>1</td>\n",
       "      <td>1</td>\n",
       "      <td>1</td>\n",
       "    </tr>\n",
       "    <tr>\n",
       "      <th>...</th>\n",
       "      <td>...</td>\n",
       "      <td>...</td>\n",
       "      <td>...</td>\n",
       "    </tr>\n",
       "    <tr>\n",
       "      <th>fccd5a49-ba76-4d1f-a344-7df398462f60</th>\n",
       "      <td>1</td>\n",
       "      <td>1</td>\n",
       "      <td>1</td>\n",
       "    </tr>\n",
       "    <tr>\n",
       "      <th>fd0c8dae-b4ef-4ed6-917c-4ac27aa67635</th>\n",
       "      <td>2</td>\n",
       "      <td>2</td>\n",
       "      <td>2</td>\n",
       "    </tr>\n",
       "    <tr>\n",
       "      <th>fd6ec646-f3ae-4552-8b63-aa10255f5095</th>\n",
       "      <td>2</td>\n",
       "      <td>2</td>\n",
       "      <td>2</td>\n",
       "    </tr>\n",
       "    <tr>\n",
       "      <th>fdd8e833-ca01-4ce5-8ca9-30ec3ba404d8</th>\n",
       "      <td>1</td>\n",
       "      <td>1</td>\n",
       "      <td>1</td>\n",
       "    </tr>\n",
       "    <tr>\n",
       "      <th>ff717a0c-6c00-4585-9d45-8e22f9268b29</th>\n",
       "      <td>2</td>\n",
       "      <td>2</td>\n",
       "      <td>2</td>\n",
       "    </tr>\n",
       "  </tbody>\n",
       "</table>\n",
       "<p>328 rows × 3 columns</p>\n",
       "</div>"
      ],
      "text/plain": [
       "                                      biomarker_name  test_result  \\\n",
       "patient_id                                                          \n",
       "0004477e-31f7-4704-a123-2b68dd64aaed               1            1   \n",
       "01d468fc-55b8-45e3-8eca-dcb7a6185f28               2            2   \n",
       "022ff2bf-19d7-4c4d-8410-a91773ad24f2               1            1   \n",
       "023f0abd-4675-4b59-96e9-5b5ca052560a               1            1   \n",
       "05720cba-7eda-4f7e-b0e8-bcc1022a1702               1            1   \n",
       "...                                              ...          ...   \n",
       "fccd5a49-ba76-4d1f-a344-7df398462f60               1            1   \n",
       "fd0c8dae-b4ef-4ed6-917c-4ac27aa67635               2            2   \n",
       "fd6ec646-f3ae-4552-8b63-aa10255f5095               2            2   \n",
       "fdd8e833-ca01-4ce5-8ca9-30ec3ba404d8               1            1   \n",
       "ff717a0c-6c00-4585-9d45-8e22f9268b29               2            2   \n",
       "\n",
       "                                      biomarker_test_type  \n",
       "patient_id                                                 \n",
       "0004477e-31f7-4704-a123-2b68dd64aaed                    1  \n",
       "01d468fc-55b8-45e3-8eca-dcb7a6185f28                    2  \n",
       "022ff2bf-19d7-4c4d-8410-a91773ad24f2                    1  \n",
       "023f0abd-4675-4b59-96e9-5b5ca052560a                    1  \n",
       "05720cba-7eda-4f7e-b0e8-bcc1022a1702                    1  \n",
       "...                                                   ...  \n",
       "fccd5a49-ba76-4d1f-a344-7df398462f60                    1  \n",
       "fd0c8dae-b4ef-4ed6-917c-4ac27aa67635                    2  \n",
       "fd6ec646-f3ae-4552-8b63-aa10255f5095                    2  \n",
       "fdd8e833-ca01-4ce5-8ca9-30ec3ba404d8                    1  \n",
       "ff717a0c-6c00-4585-9d45-8e22f9268b29                    2  \n",
       "\n",
       "[328 rows x 3 columns]"
      ]
     },
     "metadata": {},
     "output_type": "display_data"
    }
   ],
   "source": [
    "df_her2_status[(df_her2_status[\"biomarker_name\"]==\"HER2\") & (df_her2_status[\"test_result\"]== \"Negative\") ].groupby(\"patient_id\").count()"
   ]
  },
  {
   "cell_type": "code",
   "execution_count": null,
   "metadata": {},
   "outputs": [
    {
     "data": {
      "text/plain": [
       "0.3485653560042508"
      ]
     },
     "metadata": {},
     "output_type": "display_data"
    }
   ],
   "source": [
    "328/941"
   ]
  },
  {
   "cell_type": "code",
   "execution_count": null,
   "metadata": {},
   "outputs": [],
   "source": []
  }
 ],
 "metadata": {
  "kernelspec": {
   "display_name": "base",
   "language": "python",
   "name": "python3"
  },
  "language_info": {
   "codemirror_mode": {
    "name": "ipython",
    "version": 3
   },
   "file_extension": ".py",
   "mimetype": "text/x-python",
   "name": "python",
   "nbconvert_exporter": "python",
   "pygments_lexer": "ipython3",
   "version": "3.11.7"
  }
 },
 "nbformat": 4,
 "nbformat_minor": 2
}
